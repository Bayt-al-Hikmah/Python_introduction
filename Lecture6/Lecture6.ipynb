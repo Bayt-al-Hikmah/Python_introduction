{
  "nbformat": 4,
  "nbformat_minor": 0,
  "metadata": {
    "colab": {
      "provenance": [],
      "collapsed_sections": [
        "4JoTLnp4Z8Ww"
      ]
    },
    "kernelspec": {
      "name": "python3",
      "display_name": "Python 3"
    },
    "language_info": {
      "name": "python"
    }
  },
  "cells": [
    {
      "cell_type": "markdown",
      "source": [
        "# Objectives\n",
        "- Learning about Object Oriented programming\n",
        "- Learning about creating test for our code\n",
        "## Note\n",
        "This lecture was made with the help of Gemini. It fixed grammar and refreshed some of the paragraphs."
      ],
      "metadata": {
        "id": "SM1Rd1yN1ksl"
      }
    },
    {
      "cell_type": "markdown",
      "source": [
        "# Object Oriented Programing"
      ],
      "metadata": {
        "id": "r3gW9-w80VPe"
      }
    },
    {
      "cell_type": "markdown",
      "source": [
        "## Introduction:"
      ],
      "metadata": {
        "id": "iakbSw9c0as3"
      }
    },
    {
      "cell_type": "markdown",
      "source": [
        "Object-Oriented Programming (OOP) is a programming paradigm that organizes software around \"objects\" that contain both data (attributes) and code (methods) that operate on that data.\n",
        "- Objects: Represent real-world entities like a car, a person, or a bank account. Each object has unique characteristics (attributes) and behaviors (methods).\n",
        "- Classes: Blueprints or templates for creating objects. A class defines the attributes and methods that objects of that class will have.\n"
      ],
      "metadata": {
        "id": "Bj8BLHt30dW4"
      }
    },
    {
      "cell_type": "markdown",
      "source": [
        "## Working with OOP"
      ],
      "metadata": {
        "id": "hXE29mgr8e-7"
      }
    },
    {
      "cell_type": "markdown",
      "source": [
        "he first step in working with OOP is defining a class using the keyword class followed by the class name (conventionally starting with a capital letter). The code that defines the class, including attributes and methods, is then placed within the class block.  \n",
        "When defining methods within a class, the first argument must always be self. This self parameter refers to the instance of the class, enabling the method to access and modify the object's attributes."
      ],
      "metadata": {
        "id": "R7zaEhAC9KPV"
      }
    },
    {
      "cell_type": "code",
      "execution_count": null,
      "metadata": {
        "id": "OEcPPwhL1eW0"
      },
      "outputs": [],
      "source": [
        "class Cat:\n",
        "    name =\"cat\"\n",
        "    def talk(self):\n",
        "      print(\"meow\")"
      ]
    },
    {
      "cell_type": "markdown",
      "source": [
        "Now to use this class and create Object from it we just chose variable name and do **my_cat=cat()**, to access the function and variables inside the class with use the Dot (**.**)"
      ],
      "metadata": {
        "id": "D6LFNOcG-Oti"
      }
    },
    {
      "cell_type": "code",
      "source": [
        "class Cat:\n",
        "    name =\"cat\"\n",
        "    def talk(self):\n",
        "      print(\"meow\")\n",
        "my_cat=Cat()\n",
        "print(my_cat.name)\n",
        "my_cat.talk()"
      ],
      "metadata": {
        "id": "iJLcfSnU-gVK"
      },
      "execution_count": null,
      "outputs": []
    },
    {
      "cell_type": "markdown",
      "source": [
        "What we've done so far is good, but let's imagine we want each cat to have a unique name that is assigned to the object upon its creation, to achieve this, we can add a constructor to the class.  \n",
        "A constructor is a special method within a class that is automatically executed when an object of that class is created.  \n",
        "In Python, the constructor is defined using the __init__() method."
      ],
      "metadata": {
        "id": "nR9La3yc_Sz6"
      }
    },
    {
      "cell_type": "code",
      "source": [
        "class cat:\n",
        "    def __init__(self,name):\n",
        "      self.name=name\n",
        "    def talk(self):\n",
        "      print(\"meow\")\n",
        "my_cat=cat(\"kitty\")\n",
        "print(my_cat.name)\n",
        "my_cat.talk()\n"
      ],
      "metadata": {
        "id": "k_Jdp1MlAH1i"
      },
      "execution_count": null,
      "outputs": []
    },
    {
      "cell_type": "markdown",
      "source": [
        "In the constructor, we use ``self`` to refer to the object itself, followed by the necessary parameters. In this case, we only need the name parameter.\n",
        "\n",
        "Importantly, instead of simply assigning a value like ``name = name``, we use ``self.name = name``. This means that the name variable is now associated with the specific object being created, making it an instance attribute of that object."
      ],
      "metadata": {
        "id": "tWqG5m7C_4xh"
      }
    },
    {
      "cell_type": "markdown",
      "source": [
        "### Remarques:\n"
      ],
      "metadata": {
        "id": "B6y2d80KHbZe"
      }
    },
    {
      "cell_type": "markdown",
      "source": [
        "- The variables that we create inside class are atributes\n",
        "- The functions that we create inside class are methode"
      ],
      "metadata": {
        "id": "p1eRdpW6Hgrk"
      }
    },
    {
      "cell_type": "markdown",
      "source": [
        "## OOP concepts\n"
      ],
      "metadata": {
        "id": "gzP2gMJVIG2G"
      }
    },
    {
      "cell_type": "markdown",
      "source": [
        "- **Encapsulation** means to enclose data by containing it within an object.\n",
        "- **Abstraction** is Hiding the complexity of code inside simplified classes. When solving problems, we will just use the simple interface and methods that the class provides without needing to know their internal workings.\n",
        "- **Inheritance** is the ability of a class to inherit from other classes and acquire their methods, attributes, and even their constructors.\n",
        "- **Polymorphism** allows objects of different classes to be treated as objects of a common type, even though they may behave differently for the same method cal"
      ],
      "metadata": {
        "id": "wB5ZZq8dIkoG"
      }
    },
    {
      "cell_type": "markdown",
      "source": [
        "## Inheritance and Polymorphism"
      ],
      "metadata": {
        "id": "4gelq0lLNIFk"
      }
    },
    {
      "cell_type": "markdown",
      "source": [
        "In pervious examples we covred Encapsoltion and abstraction, we created class that hold methoded and attributed inside it (this is Encapsoltion) then we used the method we created object from class and worked with theirs methodes without knowing the complixity behind that, now we will see Inheritance and Polymorphism"
      ],
      "metadata": {
        "id": "Nqkzx5oONP78"
      }
    },
    {
      "cell_type": "markdown",
      "source": [
        "### Inheritance"
      ],
      "metadata": {
        "id": "1DJmzQ4JK9fE"
      }
    },
    {
      "cell_type": "markdown",
      "source": [
        "To understand Inheritance, let's suppose we want to create a program to represent a pet store. We want to have both cats and dogs in our store.  \n",
        "We could create separate classes for \"Cat\" and \"Dog,\" but we would soon realize that both classes would share some common characteristics and behaviors.\n",
        "To avoid code duplication and improve organization, we can create a parent class called \"Pet.\" This \"Pet\" class will contain methods and attributes that are common to both cats and dogs.  \n",
        "Then, we can create \"Cat\" and \"Dog\" classes that inherit from the \"Pet\" class. This means the \"Cat\" and \"Dog\" classes will automatically have access to the methods and attributes defined in the \"Pet\" class."
      ],
      "metadata": {
        "id": "WTbnRagLLDHu"
      }
    },
    {
      "cell_type": "code",
      "source": [
        "class Pet:\n",
        "    def __init__(self,name,age):\n",
        "        self.name = name\n",
        "        self.age = age\n",
        "    def show(self):\n",
        "        print(f\"I am {self.name} and I am {self.age} years old\")\n",
        "class Cat(Pet):\n",
        "    def speak(self):\n",
        "        print(\"meow\")\n",
        "class Dog(Pet):\n",
        "    def speak(self):\n",
        "        print(\"woof\")\n",
        "my_cat=Cat(\"kitty\",2)\n",
        "my_dog=Dog(\"doggy\",3)\n",
        "my_cat.show()\n",
        "my_dog.show()\n",
        "my_cat.speak()\n",
        "my_dog.speak()"
      ],
      "metadata": {
        "id": "yvyc0VJgNHeS"
      },
      "execution_count": null,
      "outputs": []
    },
    {
      "cell_type": "markdown",
      "source": [
        "The Dog and Cat classes inherit from the Pet class, inheriting the constructor and the show() method. Each of these child classes also has its own unique speak() method with different behavior.  \n",
        "To make a class inherit from a parent class, you simply place the parent class name in parentheses after the child class name.  \n",
        "Now, let's suppose we want to modify the Cat class's constructor to include a 'color' attribute. We can achieve this by overriding the constructor. First, we call the parent class's constructor using super().__init__() to ensure that the parent class's initialization is executed correctly. Then, we add the specific functionality for the Cat class, such as assigning the color attribute"
      ],
      "metadata": {
        "id": "HYuR-KxZOHqF"
      }
    },
    {
      "cell_type": "code",
      "source": [
        "class Pet:\n",
        "    def __init__(self,name,age):\n",
        "        self.name = name\n",
        "        self.age = age\n",
        "    def show(self):\n",
        "        print(f\"I am {self.name} and I am {self.age} years old\")\n",
        "class Cat(Pet):\n",
        "    def __init__(self,name,age,color):\n",
        "        super().__init__(name,age)\n",
        "        self.color = color\n",
        "    def speak(self):\n",
        "        print(\"meow\")\n",
        "class Dog(Pet):\n",
        "    def speak(self):\n",
        "        print(\"woof\")\n",
        "my_cat = Cat(\"kitty\",2,\"black\")\n",
        "my_dog = Dog(\"doggy\",3)\n",
        "my_cat.show()\n",
        "my_dog.show()\n",
        "my_cat.speak()\n",
        "my_dog.speak()"
      ],
      "metadata": {
        "id": "JlAVmFQiTYPW"
      },
      "execution_count": null,
      "outputs": []
    },
    {
      "cell_type": "markdown",
      "source": [
        "### Polymorphism"
      ],
      "metadata": {
        "id": "uGyEJTpJUqeK"
      }
    },
    {
      "cell_type": "markdown",
      "source": [
        "Now we will explore the last core concept provided by OOP: Polymorphism.  \n",
        "To understand this, let's suppose we want to create a function to represent our pets for buyers. This function should display the pet's name, age, and how the animal speaks"
      ],
      "metadata": {
        "id": "YfRUPv_cVKtu"
      }
    },
    {
      "cell_type": "code",
      "source": [
        "class Pet:\n",
        "    def __init__(self,name,age):\n",
        "        self.name = name\n",
        "        self.age = age\n",
        "    def show(self):\n",
        "        print(f\"I am {self.name} and I am {self.age} years old\")\n",
        "class Cat(Pet):\n",
        "    def __init__(self,name,age,color):\n",
        "        super().__init__(name,age)\n",
        "        self.color = color\n",
        "    def speak(self):\n",
        "        print(\"meow\")\n",
        "class Dog(Pet):\n",
        "    def speak(self):\n",
        "        print(\"woof\")\n",
        "def descript_pet(pet):\n",
        "    print(f\"This pet name is :{pet.name} and its age is {pet.age}\")\n",
        "    print(\"The sound that this pet make is\")\n",
        "    pet.speak()\n",
        "my_cat = Cat(\"kitty\",2,\"black\")\n",
        "my_dog = Dog(\"doggy\",3)\n",
        "descript_pet(my_cat)\n",
        "descript_pet(my_dog)"
      ],
      "metadata": {
        "id": "EjnANK7vbaSh"
      },
      "execution_count": null,
      "outputs": []
    },
    {
      "cell_type": "markdown",
      "source": [
        "We can see that the behaviour of the function **descript_pet** change depending on what pet we sending"
      ],
      "metadata": {
        "id": "sQ1UGzTqb8u_"
      }
    },
    {
      "cell_type": "markdown",
      "source": [
        "## Additional OOP functionality"
      ],
      "metadata": {
        "id": "Osup4cnaZ44d"
      }
    },
    {
      "cell_type": "markdown",
      "source": [
        "### Setter And Getter"
      ],
      "metadata": {
        "id": "4JoTLnp4Z8Ww"
      }
    },
    {
      "cell_type": "markdown",
      "source": [
        "We use setters and getters to control how attributes of a class are accessed and modified.  \n",
        "**Setter:** A setter method allows you to control how a value is assigned to an attribute. This provides an opportunity to validate the input value before assigning it to the attribute. For example, you might use a setter to ensure that a value falls within a specific range or to perform data type checks.  \n",
        "**Getter:** A getter method provides a way to retrieve the value of an attribute. This can be useful for various reasons, such as:\n",
        "\n",
        "* Data validation: The getter method can perform calculations or transformations on the attribute value before returning it.\n",
        "* Data hiding: The getter method can return a modified version of the attribute value while keeping the underlying implementation details hidden.\n",
        "* Read-only access: You can create a getter without a corresponding setter to make the attribute read-only."
      ],
      "metadata": {
        "id": "5ufeGfq9a2BF"
      }
    },
    {
      "cell_type": "code",
      "source": [
        "class Celsius:\n",
        "    def __init__(self, temperature=0):\n",
        "        self.temperature = temperature\n",
        "\n",
        "    def to_fahrenheit(self):\n",
        "        return (self.temperature * 1.8) + 32\n",
        "\n",
        "    @property\n",
        "    def temperature(self):\n",
        "        print(\"Getting value...\")\n",
        "        return self._temperature\n",
        "\n",
        "    @temperature.setter\n",
        "    def temperature(self, value):\n",
        "        print(\"Setting value...\")\n",
        "        if value < -273.15:\n",
        "            raise ValueError(\"Temperature below -273 is not possible\")\n",
        "        self._temperature = value\n",
        "temp = Celsius(30)\n",
        "print(temp.temperature)\n",
        "print(temp.to_fahrenheit())"
      ],
      "metadata": {
        "id": "iSi_WRTjePFX"
      },
      "execution_count": null,
      "outputs": []
    },
    {
      "cell_type": "markdown",
      "source": [
        "#### Remarques:\n",
        "- Before each getter fuction we should add **@property** keyword\n",
        "- To create setter we create function same as attribute name and we put it after **@attribute.setter**"
      ],
      "metadata": {
        "id": "-ebbg7IdesPs"
      }
    },
    {
      "cell_type": "markdown",
      "source": [
        "### Class and Static method\n"
      ],
      "metadata": {
        "id": "7C_D3kvDaE4R"
      }
    },
    {
      "cell_type": "markdown",
      "source": [
        "Class methods are a special type of method that operate on the class itself, rather than on individual objects. Unlike regular methods, which receive an object instance as their first argument (usually called **self**), class methods take a single argument conventionally named **cls** that references the class itself. This allows class methods to access and potentially modify the class's state, which includes class variables and other class methods. Consequently, changes made within a class method can impact all instances created from that class.  \n",
        "\n",
        "Static method is a method that belongs to the class itself, not to individual objects of that class.They don't receive an implicit self argument, meaning they cannot directly access or modify the instance state of the class. They are typically used for utility functions or methods that operate on class-level data or perform actions related to the class itself."
      ],
      "metadata": {
        "id": "q3MDxk2VayMR"
      }
    },
    {
      "cell_type": "code",
      "source": [
        "from datetime import datetime as date\n",
        "\n",
        "class Person:\n",
        "    def __init__(self, name, age):\n",
        "        self.name = name\n",
        "        self.age = age\n",
        "\n",
        "    # a class method to create a Person object by birth year.\n",
        "    @classmethod\n",
        "    def fromBirthYear(cls, name, year):\n",
        "        return cls(name, date.today().year - year)\n",
        "\n",
        "    # a static method to check if a Person is adult or not.\n",
        "    @staticmethod\n",
        "    def isAdult(age):\n",
        "        return age > 18\n",
        "\n",
        "\n",
        "person1 = Person('Ali', 21)\n",
        "person2 = Person.fromBirthYear('Amin', 1996)\n",
        "\n",
        "print(person1.age)\n",
        "print(person2.age)\n",
        "\n",
        "# print the result\n",
        "print(Person.isAdult(22))"
      ],
      "metadata": {
        "id": "GNLL8sGUhWVL"
      },
      "execution_count": null,
      "outputs": []
    },
    {
      "cell_type": "markdown",
      "source": [
        "## Operator Overloading"
      ],
      "metadata": {
        "id": "q4VhV6J3hx7w"
      }
    },
    {
      "cell_type": "markdown",
      "source": [
        "In OOP we can modifiy how the basic operators (comparaison and arithmetic operator) behave for our objects, we do that by overwriting them  \n",
        "The basic ones are the following:  \n",
        "Arithmetic Operators:\n",
        "- **+:** __add__()\n",
        "- **-:** __sub__()\n",
        "- **\\*:** __mul__()\n",
        "- **/:** __truediv__()\n",
        "- **%:** __mod__()\n",
        "- **\\*\\*:** __pow__()  \n",
        "\n",
        "Comparison Operators:\n",
        "\n",
        "- **==:** __eq__()\n",
        "- **!=:** __ne__()\n",
        "- **<:** __lt__()\n",
        "- **>:** __gt__()\n",
        "- **<=:** __le__()\n",
        "- **>=:** __ge__()\n"
      ],
      "metadata": {
        "id": "YFQSL-XBh65s"
      }
    },
    {
      "cell_type": "code",
      "source": [
        "class Point:\n",
        "    def __init__(self, x=0, y=0):\n",
        "        self.x = x\n",
        "        self.y = y\n",
        "    def __add__(self,other):\n",
        "        x = self.x + other.x\n",
        "        y = self.y + other.y\n",
        "        return Point(x,y)\n",
        "p1 = Point(1, 2)\n",
        "p2 = Point(2, 3)\n",
        "p3 = p1 + p2\n",
        "print(p3.x, p3.y)"
      ],
      "metadata": {
        "id": "sQy2HZockNB6"
      },
      "execution_count": null,
      "outputs": []
    },
    {
      "cell_type": "markdown",
      "source": [
        "# Creating tests"
      ],
      "metadata": {
        "id": "oK7SvsmwknjW"
      }
    },
    {
      "cell_type": "markdown",
      "source": [
        "## Introduction"
      ],
      "metadata": {
        "id": "H9N0gPCfkrxe"
      }
    },
    {
      "cell_type": "markdown",
      "source": [
        "Tests are crucial for ensuring the quality and reliability of our programs, They allow us to verify that functions behave as expected and produce the desired output. The more thoroughly we design and execute tests, the more likely we are to produce clean, robust, and bug-free programs that cover all possible scenarios."
      ],
      "metadata": {
        "id": "hnQPQeTmlOhI"
      }
    },
    {
      "cell_type": "markdown",
      "source": [
        "## Testing with assert\n"
      ],
      "metadata": {
        "id": "_-oZEnFQmgUp"
      }
    },
    {
      "cell_type": "markdown",
      "source": [
        "One of the basic formats for testing our code involves using the ``assert`` keyword. This keyword will raise an ``AssertionError`` if the given condition evaluates to False.\n",
        "\n",
        "This approach allows us to create concise tests by simply using assert statements to check for expected outcomes. If a test fails, an ``AssertionError`` will be raised, indicating that the code did not behave as expected"
      ],
      "metadata": {
        "id": "ciDQ8XfPnBvr"
      }
    },
    {
      "cell_type": "code",
      "source": [
        "def square(a):\n",
        "    return a + a\n",
        "def test_square():\n",
        "    try:\n",
        "        assert square(1) == 1\n",
        "    except AssertionError:\n",
        "        print(\"Failed first test\")\n",
        "        print(\"square of 1 was not 1\")\n",
        "    else:\n",
        "        print(\"Passed first test\")\n",
        "    try:\n",
        "        assert square(2) == 4\n",
        "    except AssertionError:\n",
        "        print(\"Failed second test\")\n",
        "        print(\"square of 2 was not 4\")\n",
        "    else:\n",
        "        print(\"Passed second test\")\n",
        "    try:\n",
        "        assert square(3) == 9\n",
        "    except AssertionError:\n",
        "        print(\"Failed third test\")\n",
        "        print(\"square of 3 was not 9\")\n",
        "    else:\n",
        "        print(\"Passed third test\")\n",
        "    try:\n",
        "        assert square(4)==16\n",
        "    except AssertionError:\n",
        "        print(\"Failed fourth test\")\n",
        "        print(\"square of 4 was not 16\")\n",
        "    else:\n",
        "        print(\"Passed fourth test\")\n",
        "test_square()"
      ],
      "metadata": {
        "id": "PmpjHo_VoeYS"
      },
      "execution_count": null,
      "outputs": []
    },
    {
      "cell_type": "markdown",
      "source": [
        "## Testing using pytest"
      ],
      "metadata": {
        "id": "lTw9O7JupSLn"
      }
    },
    {
      "cell_type": "markdown",
      "source": [
        "Testing our code effectively involves utilizing dedicated testing frameworks. One of the most popular and user-friendly options is pytest.\n",
        "\n",
        "To use pytest, we write test functions in a specific format. Instead of running our code directly with Python, we use the pytest command-line tool to execute these tests.\n",
        "\n",
        "pytest enables us to create multiple test functions, allowing us to thoroughly test different scenarios and identify potential issues. This helps us pinpoint the exact conditions that can cause our program to crash or behave unexpectedly.\n",
        "\n",
        "pytest  also facilitates the writing of tests that specifically check for expected errors. We can verify if our program raises the correct exceptions in specific situations, ensuring that it handles errors gracefully.  \n",
        "before using pytest we should firstly install it using ``pip install pytest``"
      ],
      "metadata": {
        "id": "MDaiFdFRqt1v"
      }
    },
    {
      "cell_type": "code",
      "source": [
        "!pip install pytest"
      ],
      "metadata": {
        "id": "pCSQzs5nre_l"
      },
      "execution_count": null,
      "outputs": []
    },
    {
      "cell_type": "code",
      "source": [
        "import pytest\n",
        "def square(a):\n",
        "    return a + a\n",
        "def test_negative():\n",
        "    assert square(-4) == 16\n",
        "    assert square(-2) == 4\n",
        "    assert square(-3) == 9\n",
        "def test_positive():\n",
        "    assert square(4) == 16\n",
        "    assert square(2) == 4\n",
        "    assert square(3) == 9\n",
        "def test_zero():\n",
        "    assert square(0) == 0\n",
        "def test_error():\n",
        "    with pytest.raises(TypeError):\n",
        "        square(\"cat\")"
      ],
      "metadata": {
        "id": "LW4WwLd9rgZ7"
      },
      "execution_count": null,
      "outputs": []
    },
    {
      "cell_type": "markdown",
      "source": [
        "Save this file as test_square.py then run the following command"
      ],
      "metadata": {
        "id": "22GBgdKesLIG"
      }
    },
    {
      "cell_type": "code",
      "source": [
        "!pytest test_square.py"
      ],
      "metadata": {
        "id": "H_frMCevryDE"
      },
      "execution_count": null,
      "outputs": []
    },
    {
      "cell_type": "markdown",
      "source": [
        "# Tasks:\n"
      ],
      "metadata": {
        "id": "y9_420IjrIgn"
      }
    },
    {
      "cell_type": "markdown",
      "source": [
        "## Task 1 :"
      ],
      "metadata": {
        "id": "BjtR1rBZsTcH"
      }
    },
    {
      "cell_type": "markdown",
      "source": [
        "Create program to represent functionality of robot the program should have the following\n",
        "Parent class it represent basic rebot it have the following methods and attributes :  \n",
        "\n",
        "Attributes :\n",
        "- **id :** attribute represent the id of the rebot\n",
        "- **x :** represent the cordonite of robot according x axis\n",
        "- **y :** represent the cordonite of robot according y axis\n",
        "- **orientation :** the orientation of the robot and how it turned\n",
        "- **step :** represent how much step the robot take when walking  \n",
        "\n",
        "Methodes :\n",
        "- **constructor :** that inistalise the robot position x ,y , and it id, step is set by default as 1 no need to pass it as argument\n",
        "- **turn_clockWise :** make the robot turn 90 degree clock wise direction\n",
        "- **turn_antiClockWise :** make the robot turn -90 degree clock wise direction\n",
        "- **walk :** makre rebot take step and change it x and y depend on it orientation\n",
        "- **get_position :** print the position of the robot  \n",
        "\n",
        "Child class represent new generation of rebot, it inherite from the First generation of robot and have those additional feature\n",
        "\n",
        "Attribues:\n",
        "- **charge :** how much energie the rebot have\n",
        "- **turbo_state :** it the robot is in turbo mode or not  \n",
        "\n",
        "Methodes:\n",
        "- **constructor :** run the parent class contructor and after it assign value to charge, for turbo_state it set as False by ``default``\n",
        "- **turbo :** it turn the turbo mode on if charge > 0\n",
        "- **walk :** if ``turbo_state`` is ``False`` it set ``step`` to 2 and remove 1 from ``charge`` else it return ``step`` to 1 and ``turbo_state`` to ``False`` then it run the parent class ``walk``\n"
      ],
      "metadata": {
        "id": "4DAL7qEEsWeB"
      }
    },
    {
      "cell_type": "markdown",
      "source": [
        "## Task 2 :"
      ],
      "metadata": {
        "id": "BeUztMnisYxE"
      }
    },
    {
      "cell_type": "markdown",
      "source": [
        "Using pytest create tests for the solution of task3 from lecture5"
      ],
      "metadata": {
        "id": "Ecb9stmtsa34"
      }
    }
  ]
}