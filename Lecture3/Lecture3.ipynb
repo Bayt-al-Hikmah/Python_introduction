{
 "cells": [
  {
   "cell_type": "markdown",
   "metadata": {
    "id": "VCY9qcHJeD-x"
   },
   "source": [
    "## Objective\n"
   ]
  },
  {
   "cell_type": "markdown",
   "metadata": {
    "id": "R8us1To3gxxh"
   },
   "source": [
    "- Learning about comparaison and logical operatuer\n",
    "- Learning about conditions and working with ``if`` ``else`` ``elif``\n",
    "- Learning about ``match``\n",
    "- Learning about loops and working with ``for`` and ``while``"
   ]
  },
  {
   "cell_type": "markdown",
   "metadata": {
    "id": "vidEYt7ekn3y"
   },
   "source": [
    "## Comparaison and logical operatuer"
   ]
  },
  {
   "cell_type": "markdown",
   "metadata": {
    "id": "SaBGkqDykraS"
   },
   "source": [
    "### Introduction"
   ]
  },
  {
   "cell_type": "markdown",
   "metadata": {
    "id": "cJ2SKNmokuaa"
   },
   "source": [
    "We saw how to create variables and how to do arithmetic operation on them , but sometimes we need more than that ,we will see now how to do comparaison between variables to make conditions and also how to do logical operations between coditions"
   ]
  },
  {
   "cell_type": "markdown",
   "metadata": {
    "id": "Y_MWLbv26d-f"
   },
   "source": [
    "### Comparaison Operator\n"
   ]
  },
  {
   "cell_type": "markdown",
   "metadata": {
    "id": "9Wgy4GMN7-tI"
   },
   "source": [
    "Python provide us with some operator to compare variables with each others :\n",
    "- ``==`` Check if two variables are equal\n",
    "- ``< ``  &nbsp; Check if variable a is less then b ``a < b``\n",
    "- ``<=`` Check if variable a is less or equal b ``a <= b``\n",
    "-  ``> `` &nbsp; Check if a is greater then b `a > b``\n",
    "-  ``>=`` Check if a is greater or equal b ``a >= b``\n",
    "- ``!=`` Check if a and be arn't equal ``a != b``"
   ]
  },
  {
   "cell_type": "code",
   "execution_count": null,
   "metadata": {
    "id": "Ao3RLDTW7_iE"
   },
   "outputs": [],
   "source": [
    "a = 5\n",
    "b = 10\n",
    "print(a == b)\n",
    "print(a < b)\n",
    "print(a <= b)\n",
    "print(a > b)\n",
    "print(a >= b)\n",
    "print(a != b)"
   ]
  },
  {
   "cell_type": "markdown",
   "metadata": {
    "id": "FfD7r-7z8GG6"
   },
   "source": [
    "### Logical operatuer"
   ]
  },
  {
   "cell_type": "markdown",
   "metadata": {
    "id": "mEHfkWiS8KIy"
   },
   "source": [
    "Comparaison operateur arn't always enough, sometimes we need to check condition based on many comparaisons so to chain the result of those comparaison operator together we use logical operator\n",
    "- ``and`` used to say (something and something) it will return ``True`` only if all the oprands are ``True``\n",
    "- ``or`` used to say (something or something else) it will return ``True`` if one of the operand is ``True`` or both of them\n",
    "- ``not`` wil inverse the result if it is ``True`` it become ``False`` , if it is ``False`` it becomes ``True``  \n",
    "\n",
    "We can see bellow truth table of those operators  \n",
    "\n",
    "<p align=\"center\">\n",
    "<img src=\"data:image/png;base64,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\" />\n",
    "</p>  \n",
    "\n",
    "**0** Represent ``False``  \n",
    "**1** Represent ``True``"
   ]
  },
  {
   "cell_type": "code",
   "execution_count": null,
   "metadata": {
    "id": "86QAoZOpClmS"
   },
   "outputs": [],
   "source": [
    "a = 5\n",
    "b = 10\n",
    "comparison1= a > b\n",
    "comparison2 = a < b\n",
    "print(comparison1)\n",
    "print(comparison2)\n",
    "print(comparison1 or comparison2)\n",
    "print(comparison1 and comparison2)\n",
    "print(not comparison1)\n"
   ]
  },
  {
   "cell_type": "markdown",
   "metadata": {
    "id": "eC6YTNZ7E5GH"
   },
   "source": [
    "## Conditions and if else statement\n"
   ]
  },
  {
   "cell_type": "markdown",
   "metadata": {
    "id": "uvW-qq8xE-La"
   },
   "source": [
    "### Introduction"
   ]
  },
  {
   "cell_type": "markdown",
   "metadata": {
    "id": "Hp20jCvQJ8Uh"
   },
   "source": [
    "We saw so far how to make comparaison between variable and how to make chaine the result of those comparaison together to build more complex conditions , now we will learn how to use those condition to control the way that our program follow"
   ]
  },
  {
   "cell_type": "markdown",
   "metadata": {
    "id": "An8diwd3MroO"
   },
   "source": [
    "### If statement\n"
   ]
  },
  {
   "cell_type": "markdown",
   "metadata": {
    "id": "X6WjG_ORM17A"
   },
   "source": [
    "In previous lecteurs our code was taking only 1 path to excute instructions and it is by going from top to bottom but now we will use what learnt in this lecture to make our program run in a different way based on some conditions  \n",
    "To do that we have to use (if statement) explained bellow\n",
    "```\n",
    "a = int(input(\"Enter number\"))\n",
    "if a > 0:\n",
    "    print(\"positive\")\n",
    "else :\n",
    "    print(\"negative or null\")     \n",
    "```  \n",
    "In the code above we saw how (if statement) works,we write ``if condition :`` then we shift to the next line and any code we want to work when the condition is true should be idented 4 spaces, if the codition isn't true we can run other statements using ``else :``  \n",
    "Somtimes we want to check other conditions if first one is false then we use ``elif condition:``  \n",
    "Example :  \n",
    "```\n",
    "a = int(input(\"Enter number\"))\n",
    "if a > 0:\n",
    "    print(\"positive\")\n",
    "elif a < 0:\n",
    "    print(\"negative\")\n",
    "else :\n",
    "    print(\"null\")  \n",
    "```"
   ]
  },
  {
   "cell_type": "code",
   "execution_count": null,
   "metadata": {
    "id": "5BbqROfCXA_i"
   },
   "outputs": [],
   "source": [
    "a = int(input(\"Enter number : \"))\n",
    "if a > 0:\n",
    "    print(\"positive\")\n",
    "else :\n",
    "    print(\"negative or null\")"
   ]
  },
  {
   "cell_type": "code",
   "execution_count": null,
   "metadata": {
    "id": "GedHWsYoW_2l"
   },
   "outputs": [],
   "source": [
    "a = int(input(\"Enter number : \"))\n",
    "if a > 0:\n",
    "    print(\"positive\")\n",
    "elif a < 0:\n",
    "    print(\"negative\")\n",
    "else :\n",
    "    print(\"null\")"
   ]
  },
  {
   "cell_type": "code",
   "execution_count": null,
   "metadata": {
    "id": "g8uyx3I6XN7K"
   },
   "outputs": [],
   "source": [
    "age = int(input(\"Enter your age : \"))\n",
    "if age < 18 and age >= 1:\n",
    "    print(\"not allowed to get in\")\n",
    "elif age < 100 and age >= 1:\n",
    "    print(\"allowed to get in\")\n",
    "else :\n",
    "    print(\"invalid age\")"
   ]
  },
  {
   "cell_type": "markdown",
   "metadata": {
    "id": "-9c-gNG2YHGm"
   },
   "source": [
    "## Working with match"
   ]
  },
  {
   "cell_type": "markdown",
   "metadata": {
    "id": "Sil_XPATYKrF"
   },
   "source": [
    "### Introduction\n"
   ]
  },
  {
   "cell_type": "markdown",
   "metadata": {
    "id": "AL_qTvN3DUvu"
   },
   "source": [
    "Sometimes we have a collection of possible values that variable can hold and for each value we want to excute a specific statement , we can do that using ``if`` and ``elif``  \n",
    "but there is better way to do this by using ``match`` statement"
   ]
  },
  {
   "cell_type": "markdown",
   "metadata": {
    "id": "oFGQvvYjDKl9"
   },
   "source": [
    "### Match statement"
   ]
  },
  {
   "cell_type": "markdown",
   "metadata": {
    "id": "EQAmCVSzDVXA"
   },
   "source": [
    "To work with match statement we need variable that we want to check and the possibles values , for each possible value we do a ``case`` and inside it the statement that we want to run , if we have a case for more then one value we separate them with ``|`` , and to run a statement for the rest of possiblites that are out of our case we use ``_``  \n",
    "Example :     \n",
    "```\n",
    "name = \"Ali\"\n",
    "match name:\n",
    "\n",
    "    case \"Om\":\n",
    "        print(\"Om do not have access\")\n",
    "    case \"Vishal\" |\"Ali\":\n",
    "        print(\"Vishal, Ali have access \")\n",
    "    case \"Rishabh\":\n",
    "        print(\"Rishabh is the manager\")\n",
    "    case _:\n",
    "        print(\"Not part of this project\")\n",
    "```\n"
   ]
  },
  {
   "cell_type": "code",
   "execution_count": null,
   "metadata": {
    "id": "sah93esrDWRO"
   },
   "outputs": [],
   "source": [
    "name = input(\"Enter name : \")\n",
    "match name:\n",
    "    case \"Om\":\n",
    "        print(\"Om do not have access\")\n",
    "    case \"Vishal\" |\"Ali\":\n",
    "        print(\"Vishal, Ali have access \")\n",
    "    case \"Rishabh\":\n",
    "        print(\"Rishabh is the manager\")\n",
    "    case _:\n",
    "        print(\"Not part of this project\")\n"
   ]
  },
  {
   "cell_type": "code",
   "execution_count": null,
   "metadata": {
    "id": "VTDgFuOxFZfW"
   },
   "outputs": [],
   "source": [
    "number = int(input(\"Enter number : \"))\n",
    "match number:\n",
    "    case 1:\n",
    "        print(\"one\")\n",
    "    case 2:\n",
    "        print(\"two\")\n",
    "    case 3:\n",
    "        print(\"three\")\n",
    "    case 4:\n",
    "        print(\"four\")\n",
    "    case _:\n",
    "      print(\"other number\")"
   ]
  },
  {
   "cell_type": "markdown",
   "metadata": {
    "id": "WOrvPrDtFmaA"
   },
   "source": [
    "## Loops"
   ]
  },
  {
   "cell_type": "markdown",
   "metadata": {
    "id": "oV-H4bbsF-5L"
   },
   "source": [
    "### Introduction"
   ]
  },
  {
   "cell_type": "markdown",
   "metadata": {
    "id": "ORsgZNusMUQ4"
   },
   "source": [
    "We saw how to work with conditions and how to make our code follow a different path based on those conditions but sometimes we need more than that, we need to repeat part of code more than once and keep writting a line of code 10 or 20 times will be annoying a lot, to fix this we use loops.  \n",
    "In python we have 2 type of loop ``for`` and ``while``"
   ]
  },
  {
   "cell_type": "markdown",
   "metadata": {
    "id": "iYig-MH4GBIJ"
   },
   "source": [
    "### For loop:"
   ]
  },
  {
   "cell_type": "markdown",
   "metadata": {
    "id": "aBwcWac1GLDb"
   },
   "source": [
    "We use this loop to repeat a statement for a known number also we can use it to loop through element of tuple list or sets  \n",
    "Example:\n",
    "```\n",
    "city_names = [\"Gaza\",\"Cairo\",\"Jerusalem\"]\n",
    "for name in city_names:\n",
    "    print(name)\n",
    "```\n",
    "To repeat statement x times we use ``range(x)``, ``range()`` will return a range of values from 0 to x-1\n",
    "```\n",
    "x = 10\n",
    "for n in range(10):\n",
    "    print(n)\n",
    "```"
   ]
  },
  {
   "cell_type": "code",
   "execution_count": null,
   "metadata": {
    "id": "4hVFNYBUGJkY"
   },
   "outputs": [],
   "source": [
    "city_names = [\"Gaza\",\"Cairo\",\"Jerusalem\"]\n",
    "for name in city_names:\n",
    "    print(name)\n",
    "x = 10\n",
    "for n in range(x):\n",
    "    print(n)"
   ]
  },
  {
   "cell_type": "markdown",
   "metadata": {
    "id": "gmZuxD6KGE4t"
   },
   "source": [
    "### While loop:"
   ]
  },
  {
   "cell_type": "markdown",
   "metadata": {
    "id": "ra8Tp2VuGL_G"
   },
   "source": [
    "When we don't know how many times we should repeat our statement and we know only that the code should be working while having a valid condition we use ``while``  \n",
    "Example:\n",
    "```\n",
    "x = 0\n",
    "while x <= 10:\n",
    "    print(x)\n",
    "    x += 1\n",
    "```\n"
   ]
  },
  {
   "cell_type": "code",
   "execution_count": null,
   "metadata": {
    "id": "zK_TQESKWcYb"
   },
   "outputs": [],
   "source": [
    "x = 0\n",
    "while x < 10:\n",
    "    print(x)\n",
    "    x += 1"
   ]
  },
  {
   "cell_type": "markdown",
   "metadata": {
    "id": "NrjgDi4cGRFn"
   },
   "source": [
    "### The keyword break and continue"
   ]
  },
  {
   "cell_type": "markdown",
   "metadata": {
    "id": "PvS7jWf0GWhk"
   },
   "source": [
    "We saw so far how to create and work with loops but sometimes we need more control over a loop, we need to jump a step or break and get out of the loop when a condition become true , to do so we can use the two keyword ``break`` and ``continue``\n",
    "- ``break`` used to break and quit the loop\n",
    "- ``continue`` used to jump a step"
   ]
  },
  {
   "cell_type": "code",
   "execution_count": null,
   "metadata": {
    "id": "d-UZHQnsGXAO"
   },
   "outputs": [],
   "source": [
    "# This code will jump next number when if find that the current number is even\n",
    "for i in range(10):\n",
    "    if i % 2 == 0:\n",
    "        continue\n",
    "    print(i)\n",
    "# This code will break and exit when it reach the number 5\n",
    "for i in range(10):\n",
    "    if i == 5:\n",
    "        break\n",
    "    print(i)"
   ]
  },
  {
   "cell_type": "markdown",
   "metadata": {
    "id": "Fl9IOjzWX4wa"
   },
   "source": [
    "### Remarques"
   ]
  },
  {
   "cell_type": "markdown",
   "metadata": {
    "id": "zWkMjHOZX709"
   },
   "source": [
    "- We can fall in infinity loop and our code will keep working non stop if we arn't aware enough of our condition\n",
    "- We can nest loops inside each other and make one inside another"
   ]
  },
  {
   "cell_type": "markdown",
   "metadata": {
    "id": "ZNEfyjJWYPGo"
   },
   "source": [
    "# Tasks"
   ]
  },
  {
   "cell_type": "markdown",
   "metadata": {
    "id": "D747-dH1ExTM"
   },
   "source": [
    "## Task 1:"
   ]
  },
  {
   "cell_type": "markdown",
   "metadata": {
    "id": "N40gyiKKEzJ4"
   },
   "source": [
    "Create programe that take from the user a, b and c then solve this equation $ax^2+bx+c = 0$\n",
    "### Hint:"
   ]
  },
  {
   "cell_type": "markdown",
   "metadata": {},
   "source": [
    "To calculate $\\sqrt{delta}$ use $a^{1/2}$"
   ]
  },
  {
   "cell_type": "code",
   "execution_count": null,
   "metadata": {
    "id": "WtiIb-ayFBvm"
   },
   "outputs": [],
   "source": []
  },
  {
   "cell_type": "markdown",
   "metadata": {
    "id": "u5osvAiPEZ16"
   },
   "source": [
    "## Task 2:"
   ]
  },
  {
   "cell_type": "markdown",
   "metadata": {
    "id": "Ujxa6S2sYRJ-"
   },
   "source": [
    "Create programe that find the prime number between 0 and n.  \n",
    "n is number will be entred by the user\n",
    "### Hints:\n"
   ]
  },
  {
   "cell_type": "markdown",
   "metadata": {
    "id": "bIXZs0SqElEu"
   },
   "source": [
    "- You will need 2 loops.\n",
    "- Prime number is number that divide only by itself and 1."
   ]
  },
  {
   "cell_type": "code",
   "execution_count": null,
   "metadata": {
    "id": "a_s3NsafEsIi"
   },
   "outputs": [],
   "source": []
  }
 ],
 "metadata": {
  "colab": {
   "authorship_tag": "ABX9TyMuWJ0hK4qSj1Lo6/dyK7iD",
   "collapsed_sections": [
    "Y_MWLbv26d-f",
    "FfD7r-7z8GG6",
    "uvW-qq8xE-La",
    "iYig-MH4GBIJ",
    "D747-dH1ExTM"
   ],
   "provenance": []
  },
  "kernelspec": {
   "display_name": "Python 3",
   "name": "python3"
  },
  "language_info": {
   "name": "python"
  }
 },
 "nbformat": 4,
 "nbformat_minor": 0
}
