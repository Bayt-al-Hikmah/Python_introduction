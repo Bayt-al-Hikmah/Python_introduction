{
  "cells": [
    {
      "cell_type": "markdown",
      "metadata": {
        "id": "oXLJBcohCJnh"
      },
      "source": [
        "# Objectives:\n"
      ]
    },
    {
      "cell_type": "markdown",
      "metadata": {
        "id": "DzSMxIHsHsuJ"
      },
      "source": [
        "- Learning how to manipulate string variable\n",
        "- Learning about Regular expresion\n",
        "- Learning about writing and reading files\n",
        "- Learning about Error handling\n",
        "\n"
      ]
    },
    {
      "cell_type": "markdown",
      "metadata": {
        "id": "3GW9mDlBarjD"
      },
      "source": [
        "# Manipulating string"
      ]
    },
    {
      "cell_type": "markdown",
      "metadata": {
        "id": "3yoqi5I0aunl"
      },
      "source": [
        "We can deal with string as list of characters, we can use the same functions, that we used with list, on the string\n",
        "- We can get string length using the function **len()**\n",
        "- We can access a character inside string using the **[]** and index\n",
        "- We can check if text or letter exist inside string using **.index()** (if text or letter dont exist we get error)\n",
        "- We can check if string starts with value by using **.startswith()**\n",
        "- We can slice our string and get sub string from it using **[start:end]**\n",
        "- We can split string and divide it based on the symbol we want by using **.split()** inside parentheses the symbol that we want to use to divide the string.\n",
        "- We can turn string to uppercase,lowecase,title (first letter of each word capital), by using **.upper()**,**.lower()** and **.title()**\n",
        "- We can join list of string using **\"text\".join()** text can be any symbol or string that will be used as separator between those joined strings"
      ]
    },
    {
      "cell_type": "code",
      "execution_count": null,
      "metadata": {
        "id": "LT6fEO3DhQwd"
      },
      "outputs": [],
      "source": [
        "some_text = \"hello my name ali , i hope you will enjoy this course\"\n",
        "print(len(some_text))\n",
        "print(some_text[0])\n",
        "print(some_text.index(\"ali\"))\n",
        "print(some_text.startswith(\"h\"))\n",
        "print(some_text[0:5])\n",
        "print(some_text.split(\" \"))\n",
        "print(some_text.upper())\n",
        "name_list = [\"ali\",\"mohammed\",\"ahmed\"]\n",
        "print(\" \".join(name_list))\n",
        "print(\"-\".join(name_list))"
      ]
    },
    {
      "cell_type": "markdown",
      "metadata": {
        "id": "BZyCh8C3jqsR"
      },
      "source": [
        "## Formating string"
      ]
    },
    {
      "cell_type": "markdown",
      "metadata": {
        "id": "4dMjkd4kkLod"
      },
      "source": [
        "We saw how to manipulate string but now we will see how to costumize string (injecting value adding line break ...)\n",
        "- to inject value inside string we should add f before the starting \", then we put the variable, that we want to inject  inside the string, inside **{}**\n",
        "- to add line break and jump next line we use \\n\n",
        "- to add 4 spaces (tab) we use \\t\n",
        "### Remarque\n",
        "The backslash (\\\\) is called escape character, we use it to insert characters that are illegal in a string"
      ]
    },
    {
      "cell_type": "code",
      "execution_count": null,
      "metadata": {
        "id": "2dlbbRCFmY_D"
      },
      "outputs": [],
      "source": [
        "name = \"ali\"\n",
        "text = f\"hello {name}\"\n",
        "print(text)\n",
        "text = f\"hello \\n {name}\"\n",
        "print(text)\n",
        "text = f\"hello \\t {name}\"\n",
        "print(text)"
      ]
    },
    {
      "cell_type": "markdown",
      "metadata": {
        "id": "AWvcNBd1m42r"
      },
      "source": [
        "# Regular expression"
      ]
    },
    {
      "cell_type": "markdown",
      "metadata": {
        "id": "_fBXLvCMnGcV"
      },
      "source": [
        "## Introduction"
      ]
    },
    {
      "cell_type": "markdown",
      "metadata": {
        "id": "GHcIPGnFm8uQ"
      },
      "source": [
        "Till now we saw how to work and manipulate string but sometimes we need more then that,we need to check if the string matches a pattern to do that we use regular expression (regex)  \n",
        "The first thing to do when we want to work with regex is importing the **re** module"
      ]
    },
    {
      "cell_type": "markdown",
      "metadata": {
        "id": "mL8lsGpMqH4L"
      },
      "source": [
        "## The re module"
      ]
    },
    {
      "cell_type": "markdown",
      "metadata": {
        "id": "ZSEfaYocqL-u"
      },
      "source": [
        "The regular expression module provides us with following functions\n",
        "- **re.match(pattern, string, flags=0)** if subs string inside our text matched the pattern, it returns the match otherwise it returns None\n",
        "- **re.fullmatch(pattern, string, flags=0)** if the whole string matches the regular expression pattern, return a corresponding Match, otherwise it returns None\n",
        "- **re.split(pattern, string, maxsplit=0, flags=0)** splits string by the occurrences of pattern.\n",
        "- **re.findall(pattern, string, flags=0)** returns all the matches of pattern in string, as a list of strings or tuples.\n",
        "- **re.sub(pattern, repl, string, count=0, flags=0)** replaces text inside string that match the pattern with repl."
      ]
    },
    {
      "cell_type": "markdown",
      "metadata": {
        "id": "8kF4_xT0r0pp"
      },
      "source": [
        "### Flags\n",
        "Give additional control on how we want to match the patterns"
      ]
    },
    {
      "cell_type": "markdown",
      "metadata": {
        "id": "fs-DvufCsd9N"
      },
      "source": [
        "- **re.A** or **re.ASCII** matches only the ASCII letters\n",
        "- **re.I** or **re.IGNORECASE**    treat upper and lower case as same thing\n",
        "- **re.M**    or **re.MULTILINE**    this flag means treate each character after new line (\\n) is as beginning of string and each character before break line(\\n) as an end of string.\n",
        "- **re.S** or **re.DOTALL**    Make the dot (.) special character match any character including the newline (\\n). Without this flag, dot(.) will match anything except a newline (\\n)\n",
        "- **re.X** or **re.VERBOSE**    Allow comment in the regex."
      ]
    },
    {
      "cell_type": "markdown",
      "metadata": {
        "id": "HCtn6XvhoPAj"
      },
      "source": [
        "## Regex  pattern"
      ]
    },
    {
      "cell_type": "markdown",
      "metadata": {
        "id": "JdWVbZNYoXp8"
      },
      "source": [
        "- `.` matches any character except a newline\n",
        "- `*` matches when the pattern have 0 or more repetitions\n",
        "- `+` matches when the pattern have 1 or more repetitions\n",
        "- `?` matches when the pattern have 0 or 1 repetition\n",
        "- `{m}` match when the pattern have m repetitions\n",
        "- `{m,n}` match when the pattern have between m and n repetitions\n",
        "- `^` used to matches the start of the string or after the new line\n",
        "- `$` used to matches the end of the string or just before the newline at the end of the string\n",
        "- `[]` used to make pattern formed of set of characters\n",
        "- `[^]` used to match pattern of anything except the set of characters inside it\n",
        "- `\\d` matches decimal digit\n",
        "- `\\D` matches anythine except a decimal digit\n",
        "- `\\s` matches whitespace characters\n",
        "- `\\S` matches anythine except a whitespace character\n",
        "- `\\w` matches word character ,numbers and the underscore\n",
        "- `\\W` matches anythine except a word character\n",
        "- `A|B` matches pattern A or B\n",
        "- `(...)` used to make a group of pattern\n",
        "- `(?:...)` used to make non-capturing version group of pattern"
      ]
    },
    {
      "cell_type": "code",
      "execution_count": null,
      "metadata": {
        "id": "5r7EdS5gpD_9"
      },
      "outputs": [],
      "source": [
        "import re\n",
        "text = \"hello , my name ali how are you, hope everything work well\"\n",
        "# check if the text start by h then have 1 or more any letter then end with l\n",
        "print(bool(re.search(\"^h.+l$\",text)))\n",
        "# check if there is match of the pattern that can be formed by k,f,2,8 or 4 exist in our text\n",
        "print(bool(re.search(\"[kf284]\",text)))\n",
        "# check if there is match of the pattern that can be formed by digit from 0 to 9\n",
        "print(bool(re.search(\"[0-9]\",text)))\n",
        "# check if the text start with h then have 1 or 0 e after the h then have any character then end with l\n",
        "print(bool(re.search(\"^he?.*l$\",text)))\n",
        "# check if the text have match where l repeated twice\n",
        "print(bool(re.search(\"l{2}\",text)))\n",
        "# check if the text have match of engy or ali\n",
        "print(bool(re.search(\"engy|ali\",text)))"
      ]
    },
    {
      "cell_type": "markdown",
      "metadata": {
        "id": "0HPyDmvSHudz"
      },
      "source": [
        "# Working with file"
      ]
    },
    {
      "cell_type": "markdown",
      "metadata": {
        "id": "-DkI-PWPHyQf"
      },
      "source": [
        "## Introduction"
      ]
    },
    {
      "cell_type": "markdown",
      "metadata": {
        "id": "QK9Dim3lH0EG"
      },
      "source": [
        "Variables are good to store  data but those variables are temporary when we close the python program we lose them.  \n",
        "One way to fix this is to store those variables and the results of our calculation in files"
      ]
    },
    {
      "cell_type": "markdown",
      "metadata": {
        "id": "o1Q461tpTLIB"
      },
      "source": [
        "## Creating and writing to file"
      ]
    },
    {
      "cell_type": "markdown",
      "metadata": {
        "id": "WXo1BTQcTO9S"
      },
      "source": [
        "To write and create file in python we first need to open the file using the function **open()** we give it the file name and the method we EW opening the file with (w for writing) as arguments, then we save the result that the function returns in variable (this variable will represent the file), to write data we use the file name then **.write(\"text here\")**, after we finish writing we have to close the file so all the changes will be saved"
      ]
    },
    {
      "cell_type": "code",
      "execution_count": null,
      "metadata": {
        "id": "uW3g0d4hTvt_"
      },
      "outputs": [],
      "source": [
        "file = open(\"./data.txt\",\"w\")\n",
        "file.write(\"hello\\n\")\n",
        "file.write(\"ali\")\n",
        "file.close()"
      ]
    },
    {
      "cell_type": "markdown",
      "metadata": {
        "id": "KWTqkGw2Udbb"
      },
      "source": [
        "### Remarques:\n",
        "- when we open a file and we use \"w\" this means we are overwriting the file, if it has old data it gets deleted\n",
        "- if we want to write many lines we can use the method **.writelines()**"
      ]
    },
    {
      "cell_type": "code",
      "execution_count": null,
      "metadata": {
        "id": "sAYydt3lVLr9"
      },
      "outputs": [],
      "source": [
        "file = open(\"./data.txt\",\"w\")\n",
        "file.writelines([\"first line\\n\",\"second line\\n\",\"third line\\n\"])\n",
        "file.close()"
      ]
    },
    {
      "cell_type": "markdown",
      "metadata": {
        "id": "eu7r_9T5Vog8"
      },
      "source": [
        "## Appending data to file"
      ]
    },
    {
      "cell_type": "markdown",
      "metadata": {
        "id": "Sz0mDfVPV0U7"
      },
      "source": [
        "Sometime we don't want to overwrite the data of the file and write new one, sometimes we just want to append and add new data to it, to do that all we need is to open the file with the append mode by changing **w** with **a**"
      ]
    },
    {
      "cell_type": "code",
      "execution_count": null,
      "metadata": {
        "id": "vBU3gGGeWGQU"
      },
      "outputs": [],
      "source": [
        "file = open(\"./data.txt\",\"a\")\n",
        "file.write(\"additional line\\n\") # this line will be added to the file\n",
        "file.close()"
      ]
    },
    {
      "cell_type": "markdown",
      "metadata": {
        "id": "y7wXKt55XtOX"
      },
      "source": [
        "### Remarque\n",
        "We notice that each time we open a file we should close it and over time we may forget it so python provide us with other way to open file using **with** and **as** keywords"
      ]
    },
    {
      "cell_type": "code",
      "execution_count": null,
      "metadata": {
        "id": "LZwe_aKDYGSI"
      },
      "outputs": [],
      "source": [
        "with open(\"data.txt\",\"a\") as file:\n",
        "    file.write(\"another line\\n\")\n"
      ]
    },
    {
      "cell_type": "markdown",
      "metadata": {
        "id": "phs7JguwYYQq"
      },
      "source": [
        "## Reading data from files"
      ]
    },
    {
      "cell_type": "markdown",
      "metadata": {
        "id": "P0LcLjaFYbQg"
      },
      "source": [
        "Now we're going to look into the way to get data form a file we need first to use **r** instead of **w** to open file on the reading mode then, we read the data by using **.read()** it will read all the file data as single string variable , or we can use **.readlines()** to get files lines as list of string"
      ]
    },
    {
      "cell_type": "code",
      "execution_count": null,
      "metadata": {
        "id": "IqovquT3aO3p"
      },
      "outputs": [],
      "source": [
        "with open(\"data.txt\",\"r\") as file:\n",
        "    data = file.read()\n",
        "print(data)\n",
        "print(\"=\"*10)\n",
        "# second method\n",
        "with open(\"data.txt\",\"r\") as file:\n",
        "    data = file.readlines()\n",
        "print(data[1]) # we get second line"
      ]
    },
    {
      "cell_type": "markdown",
      "metadata": {
        "id": "fbrIJ0cUL-I6"
      },
      "source": [
        "## File modes\n"
      ]
    },
    {
      "cell_type": "markdown",
      "metadata": {
        "id": "nm30AFmEcH1o"
      },
      "source": [
        "![1_OZU1K-1rB-lve4_fSr89yQ.jpg](data:image/jpeg;base64,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)"
      ]
    },
    {
      "cell_type": "markdown",
      "metadata": {
        "id": "B94PUobQ1HcR"
      },
      "source": [
        "# Error handling"
      ]
    },
    {
      "cell_type": "markdown",
      "metadata": {
        "id": "NJ0UYNzw1OjK"
      },
      "source": [
        "## Introduction:\n"
      ]
    },
    {
      "cell_type": "markdown",
      "metadata": {
        "id": "XhGfbdT8PMbp"
      },
      "source": [
        "Making errors is part of our nature specially in programming, so we will explain the types of errors and how to catch and handle them"
      ]
    },
    {
      "cell_type": "markdown",
      "metadata": {
        "id": "wansymWzPXG7"
      },
      "source": [
        "## Types of Errors"
      ]
    },
    {
      "cell_type": "markdown",
      "metadata": {
        "id": "BbN6mXTRPdiP"
      },
      "source": [
        "-  **Compilation Errors :** We find this error in programming language that require compilation , it prevent our code from compiling  \n",
        "- **Syntax Errors :** This error mean we did something wrong while writing our script it can be miss spelling of a fuction or variable name or forgetting ()\n",
        "- **Runtime Errors :** This error occures while our program is running and makes it crash, most of time it is caused by user (entring invalide value)\n",
        "- **Logic Errors :** This error are result by wrong formating of conditions don't crash our program but turn it to worke in different way then what we want\n",
        "- **Arithmetic Errors :** This error is similar to Logic Errors but involves math , it can be a result of mal formating our equations or the priority of our operators (+ - / * ..)\n",
        "- **Resource Errors :** This error happens when we exceed the resource that our pc or machine provides (example running out of memory)"
      ]
    },
    {
      "cell_type": "markdown",
      "metadata": {
        "id": "cVn2_YrzWoeW"
      },
      "source": [
        "## Catching and handling errors"
      ]
    },
    {
      "cell_type": "markdown",
      "metadata": {
        "id": "p3NarBMKWsxD"
      },
      "source": [
        "Some of the error are caused by the user which means even if our code is clean, there's still a corner case where user input will make it crash, to fix this issue python provides us with a way to catch errors and run alternative statement.  \n",
        "If we have bloc of code that we know it may cause errors we put it after the keyword **try** and then to catch the errors and handle them we use the keyword **except** followed by the error (if we write **except** without following it with error type, it will capture all the errors)"
      ]
    },
    {
      "cell_type": "code",
      "execution_count": null,
      "metadata": {
        "id": "tQXfBUuIYjKp"
      },
      "outputs": [],
      "source": [
        "try :\n",
        "    a = int(input(\"Enter the first number :\"))\n",
        "    b = int(input(\"Enter the second number :\"))\n",
        "    print(a / b)\n",
        "except ZeroDivisionError:\n",
        "    print(\"We can't divide by 0\")\n",
        "except ValueError:\n",
        "    print(\"You should enter number\")\n",
        "except :\n",
        "    print(\"Other errors\")\n"
      ]
    },
    {
      "cell_type": "markdown",
      "metadata": {
        "id": "dp9b0-aBZySO"
      },
      "source": [
        "### Remarques\n",
        "\n"
      ]
    },
    {
      "cell_type": "markdown",
      "metadata": {
        "id": "FG8ExFsObwXS"
      },
      "source": [
        "- ZeroDivisionError is an error that we get when we divide by 0\n",
        "- ValueError error when we enter wrong value (text and character for numbers)\n",
        "- If except was empty it means capture all other errors\n",
        "- We can add **else** bloc to run when there is no error\n",
        "- **finally** can be used to add bloc of code at the end of try except bloc the code in **finally** bloc run no matter if there's an error or not"
      ]
    },
    {
      "cell_type": "code",
      "execution_count": null,
      "metadata": {
        "id": "8ygOFuZqbign"
      },
      "outputs": [],
      "source": [
        "try :\n",
        "    a = int(input(\"Enter the first number :\"))\n",
        "    b = int(input(\"Enter the second number :\"))\n",
        "    c= a / b\n",
        "except ZeroDivisionError:\n",
        "    print(\"We can't divide by 0\")\n",
        "except ValueError:\n",
        "    print(\"You should enter number\")\n",
        "except :\n",
        "    print(\"Other errors\")\n",
        "else:\n",
        "    print(c)\n",
        "finally:\n",
        "    print(\"We are done\")\n"
      ]
    },
    {
      "cell_type": "markdown",
      "metadata": {
        "id": "JUVerSy2b695"
      },
      "source": [
        "## Raising Error"
      ]
    },
    {
      "cell_type": "markdown",
      "metadata": {
        "id": "Ijq2mxd4b86_"
      },
      "source": [
        "Sometimes we want to raise error when a condition( we set) is met.  \n",
        "Lets suppose we want to make a program that takes peoples age , we know that age can't be negative number so we need to raise error when someone enter negative number.  \n",
        "We can raise error by using the Keyword **raise**"
      ]
    },
    {
      "cell_type": "code",
      "execution_count": null,
      "metadata": {
        "id": "5qdkHCeMeVqy"
      },
      "outputs": [],
      "source": [
        "try:\n",
        "    age = int(input(\"Enter your age :\"))\n",
        "    if age < 0:\n",
        "        raise ValueError(\"Age can't be negative\")\n",
        "except ValueError as e:\n",
        "    print(e)"
      ]
    },
    {
      "cell_type": "markdown",
      "metadata": {
        "id": "bQcBo5Z0eg7f"
      },
      "source": [
        "# Tasks:"
      ]
    },
    {
      "cell_type": "markdown",
      "metadata": {
        "id": "vywmy9qTei5l"
      },
      "source": [
        "## Task 1:"
      ]
    },
    {
      "cell_type": "markdown",
      "metadata": {
        "id": "FyM-MDbSj-zI"
      },
      "source": [
        "Using regex write programe that get password from user and check if it strong\n",
        "### Hint:\n",
        "strong password must :\n",
        "- Start with character\n",
        "- Have at least 2 special characters\n",
        "- Have numbers and capital characters\n",
        "- Have the length of 10 characters"
      ]
    },
    {
      "cell_type": "code",
      "execution_count": null,
      "metadata": {
        "id": "nf0w5vQWkWKL"
      },
      "outputs": [],
      "source": []
    },
    {
      "cell_type": "markdown",
      "metadata": {
        "id": "O_DLK0vNko8C"
      },
      "source": [
        "## Task 2:"
      ]
    },
    {
      "cell_type": "markdown",
      "metadata": {
        "id": "ClWcPBdZku-h"
      },
      "source": [
        "Using the variable [argv](https://www.geeksforgeeks.org/how-to-use-sys-argv-in-python/) from the module sys , write python script that create copy of file  \n",
        "the script must run as follow\n",
        "\n",
        "```python task2.py file.txt output.txt```\n",
        "\n"
      ]
    },
    {
      "cell_type": "code",
      "execution_count": null,
      "metadata": {
        "id": "IHLrxx3Rlr0M"
      },
      "outputs": [],
      "source": []
    },
    {
      "cell_type": "markdown",
      "metadata": {
        "id": "Vec5tp7kl1Y5"
      },
      "source": [
        "## Task 3:"
      ]
    },
    {
      "cell_type": "markdown",
      "metadata": {
        "id": "d3C0e-hzl5lr"
      },
      "source": [
        "Add to the script that solve $ax^2+bx+c=0$  from Lecture 4 what you learn't in error handling"
      ]
    },
    {
      "cell_type": "code",
      "execution_count": null,
      "metadata": {
        "id": "oDEKzfVkmmbe"
      },
      "outputs": [],
      "source": []
    }
  ],
  "metadata": {
    "colab": {
      "collapsed_sections": [
        "AWvcNBd1m42r",
        "HCtn6XvhoPAj",
        "0HPyDmvSHudz",
        "B94PUobQ1HcR",
        "bQcBo5Z0eg7f"
      ],
      "provenance": []
    },
    "kernelspec": {
      "display_name": "Python 3",
      "name": "python3"
    },
    "language_info": {
      "name": "python"
    }
  },
  "nbformat": 4,
  "nbformat_minor": 0
}
