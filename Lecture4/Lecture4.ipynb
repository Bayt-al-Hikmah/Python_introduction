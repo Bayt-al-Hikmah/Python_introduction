{
  "cells": [
    {
      "cell_type": "markdown",
      "metadata": {
        "id": "-bI630_W79WN"
      },
      "source": [
        "# Objectives:"
      ]
    },
    {
      "cell_type": "markdown",
      "metadata": {
        "id": "ZOhUMh1g8CZA"
      },
      "source": [
        "- Creating and working with functions\n",
        "- Working with built in modules\n",
        "- Installing and Working with third party modules\n"
      ]
    },
    {
      "cell_type": "markdown",
      "metadata": {
        "id": "cVRBMKbO8jz0"
      },
      "source": [
        "# Functions"
      ]
    },
    {
      "cell_type": "markdown",
      "metadata": {
        "id": "WIjmq2MS8pKB"
      },
      "source": [
        "## Introduction"
      ]
    },
    {
      "cell_type": "markdown",
      "metadata": {
        "id": "M2mpKvyr85La"
      },
      "source": [
        "In the past lectures we went over many scripts and built many functionalities,but sometimes we need to use a functionlity more than one time so we have to copy and paste it, doing this over and over again will end up creating larger program for simple tasks, to fix this we can use functions.\n",
        "With fuctions we can turn bloc of code into reusable code"
      ]
    },
    {
      "cell_type": "markdown",
      "metadata": {
        "id": "99rUkhon-SuI"
      },
      "source": [
        "## Creating functions:"
      ]
    },
    {
      "cell_type": "markdown",
      "metadata": {
        "id": "TwVEqkZ5-WTq"
      },
      "source": [
        "To create function we need to follow those steps:\n",
        "- Identify the bloc of code that we want to turn into reusable code\n",
        "- Choosing a function name\n",
        "- Identify the parameters that our function will need\n",
        "- Identify the value  that we want to get back from our function  \n",
        "\n",
        "\n",
        "After passing through all those steps we create function using the keyword **def**"
      ]
    },
    {
      "cell_type": "code",
      "execution_count": null,
      "metadata": {
        "id": "T5IvfYXvr9K6"
      },
      "outputs": [],
      "source": [
        "def say_hello():\n",
        "    print(\"hello user\")\n",
        "say_hello()"
      ]
    },
    {
      "cell_type": "markdown",
      "metadata": {
        "id": "j_gDUeAEAKnZ"
      },
      "source": [
        "## Functions with parameter\n"
      ]
    },
    {
      "cell_type": "markdown",
      "metadata": {
        "id": "qB4MOonkAVtE"
      },
      "source": [
        "The example we gave above is function that takes no arguments and returns no data, lets suppose we want to create a function that takes 2 number,calculate the sum of them then return the result  \n",
        "\n",
        "Here's how we make it :\n"
      ]
    },
    {
      "cell_type": "code",
      "execution_count": null,
      "metadata": {
        "id": "4BWtJ3cMBz1R"
      },
      "outputs": [],
      "source": [
        "def add_two_numbers(num1,num2):\n",
        "    result = num1+num2\n",
        "    return result\n",
        "a = add_two_numbers(2,3) # num1 = 2, num2 = 3 and a will be the value that the function return here it is 5\n",
        "print(a)\n"
      ]
    },
    {
      "cell_type": "code",
      "execution_count": null,
      "metadata": {
        "id": "Anjc5Zl9CSmR"
      },
      "outputs": [],
      "source": [
        "# we can also use\n",
        "def add_two_numbers(num1,num2):\n",
        "    return num1+num2\n",
        "a = add_two_numbers(2,3) # num1 = 2, num2 = 3 and a = 5\n",
        "print(a)"
      ]
    },
    {
      "cell_type": "markdown",
      "metadata": {
        "id": "xHph6xcFC-eS"
      },
      "source": [
        "## Function with default parameter"
      ]
    },
    {
      "cell_type": "markdown",
      "metadata": {
        "id": "s9LxVyZXDGcB"
      },
      "source": [
        "Sometimes we want to make one of the arguments, that the function take optional, to do that we can set the parameter with default value as follow:"
      ]
    },
    {
      "cell_type": "code",
      "execution_count": null,
      "metadata": {
        "id": "oTprf-VlfLD8"
      },
      "outputs": [],
      "source": [
        "def say_hello(name = \"user\"):\n",
        "    print(f\"hello {name}\")\n",
        "say_hello()\n",
        "say_hello(\"mohamed\")\n"
      ]
    },
    {
      "cell_type": "markdown",
      "metadata": {
        "id": "ZJToj3zOi8Gq"
      },
      "source": [
        "## Variable scope\n"
      ]
    },
    {
      "cell_type": "markdown",
      "metadata": {
        "id": "iQxxbw8Di_QU"
      },
      "source": [
        "For the sum function we created variable **result** inside it, what will happen if we try to use this variable outside the function"
      ]
    },
    {
      "cell_type": "code",
      "execution_count": null,
      "metadata": {
        "id": "-3G__c65jNut"
      },
      "outputs": [],
      "source": [
        "def add_two_numbers(num1,num2):\n",
        "    result = num1+num2\n",
        "    return result\n",
        "a = add_two_numbers(2,3)\n",
        "print(a)\n",
        "print(result) # Error"
      ]
    },
    {
      "cell_type": "markdown",
      "metadata": {
        "id": "xRctfz9njaD1"
      },
      "source": [
        "We can't use a variable (that have been created inside function) outside of it because when we create variable inside function it will be created in the local scope and can be used only inside the function  \n"
      ]
    },
    {
      "cell_type": "markdown",
      "metadata": {
        "id": "dwdSHIS3j2Kx"
      },
      "source": [
        "### Global scope\n"
      ]
    },
    {
      "cell_type": "markdown",
      "metadata": {
        "id": "gaFTLzn8j6FU"
      },
      "source": [
        "Represent the scope of our script file each variable we create in our script belong to this scope and they are called global variables, for the previous example **a** is a global variable"
      ]
    },
    {
      "cell_type": "markdown",
      "metadata": {
        "id": "D24WjSNLkJ-o"
      },
      "source": [
        "### Local scope"
      ]
    },
    {
      "cell_type": "markdown",
      "metadata": {
        "id": "3dNcAvZ9kMjx"
      },
      "source": [
        "Represent the function scope, each variable created inside the function gets called local variable, for the previous example **result** is a local variable"
      ]
    },
    {
      "cell_type": "markdown",
      "metadata": {
        "id": "ApTdoyDhkqpg"
      },
      "source": [
        "### Remarque"
      ]
    },
    {
      "cell_type": "markdown",
      "metadata": {
        "id": "32UTorRfktIA"
      },
      "source": [
        "We can access global variables inside local scop but we can't access local veriables in the global scop"
      ]
    },
    {
      "cell_type": "markdown",
      "metadata": {
        "id": "k6C47M5rk2LB"
      },
      "source": [
        "## Function with arbitrary number of parameter"
      ]
    },
    {
      "cell_type": "markdown",
      "metadata": {
        "id": "7Vvv3sT9oKwC"
      },
      "source": [
        "What if we have a function that contains x number of arguments depending on the user's input?\n",
        "\n",
        "To deal with this python provides us with a way to make function that takes arbitrary number of arguments, those arguments will be saved inside one parameter as list, to create this paremeter we just add * to it's name"
      ]
    },
    {
      "cell_type": "code",
      "execution_count": null,
      "metadata": {
        "id": "lQAdkNHeo_w1"
      },
      "outputs": [],
      "source": [
        "def say_hello(*names):\n",
        "    for name in names:\n",
        "        print(f\"hello {name}\")\n",
        "say_hello(\"mohamed\",\"ahmed\",\"ali\")"
      ]
    },
    {
      "cell_type": "markdown",
      "metadata": {
        "id": "vtLSj9yXo_O2"
      },
      "source": [
        "If we want to use those arguments as key values we can use \\*\\*, this will store all those key value arguments as dictionary."
      ]
    },
    {
      "cell_type": "code",
      "execution_count": null,
      "metadata": {
        "id": "vATjT2OLpnL2"
      },
      "outputs": [],
      "source": [
        "def say_hello(**names):\n",
        "    for name in names.values():\n",
        "        print(f\"hello {name}\")\n",
        "say_hello(name1=\"mohamed\",name2=\"ahmed\",name3=\"ali\")"
      ]
    },
    {
      "cell_type": "markdown",
      "metadata": {
        "id": "BKWEhMNGqARd"
      },
      "source": [
        "## Recursive and anonymous function\n"
      ]
    },
    {
      "cell_type": "markdown",
      "metadata": {
        "id": "Dty2tpgsqFCp"
      },
      "source": [
        "### Recursive fuction"
      ]
    },
    {
      "cell_type": "markdown",
      "metadata": {
        "id": "Jw3U-i76qIzR"
      },
      "source": [
        "This function keeps calling itself over and over again untill a condition (that we call base state) is valid  \n",
        "lets suppose we want to create a function that calculate factorial of numbers  \n",
        "we know that:     \n",
        "- 0! is equal to 1\n",
        "- 1! is equal to 1\n",
        "- 4  is equal to 4\\*3\\*2\\*1  \n",
        "- 5! is equal to 5\\*4\\*3\\*2\\*1 = 5\\*4!\n",
        "\n",
        "with that in mind, we can set the base condition as  \n",
        "if n == 0 we return 1,else we return n multiplied by the factorial of n-1 and so on"
      ]
    },
    {
      "cell_type": "code",
      "execution_count": null,
      "metadata": {
        "id": "EbnBT7vytD-L"
      },
      "outputs": [],
      "source": [
        "def factorial(n):\n",
        "    if n == 0:\n",
        "        return 1\n",
        "    else:\n",
        "        return n * factorial(n-1)\n",
        "print(factorial(5))"
      ]
    },
    {
      "cell_type": "markdown",
      "metadata": {
        "id": "SOxVj-RquYVU"
      },
      "source": [
        "![capture_lecture.png](data:image/png;base64,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)"
      ]
    },
    {
      "cell_type": "markdown",
      "metadata": {
        "id": "CzHs0-gSujjz"
      },
      "source": [
        "### Anonymous function"
      ]
    },
    {
      "cell_type": "markdown",
      "metadata": {
        "id": "afuab3eOumxu"
      },
      "source": [
        "Anonymous functions or as we call them in python (lambda fuctions) are usefull to make a special functionality without creating function to create lambda function we use the keyword lambda  \n",
        "To understand how they are usefull lets suppose we want to create a function that takes 2 numbers and operator to do for those 2 numbers we can do that using lambda function"
      ]
    },
    {
      "cell_type": "code",
      "execution_count": null,
      "metadata": {
        "id": "h78kwKINDG8i"
      },
      "outputs": [],
      "source": [
        "def add(a,b):\n",
        "  return a+b\n",
        "\n",
        "def func(a,b,operator):\n",
        "  return operator(a,b)\n",
        "print(func(4,5,add))\n",
        "print(func(4,5,lambda x,y:x-y)) # instead of keep creating function for each operator we use lambda\n",
        "print(func(4,5,lambda x,y:x*y))\n",
        "print(func(4,5,lambda x,y:x/y))\n"
      ]
    },
    {
      "cell_type": "markdown",
      "metadata": {
        "id": "og5j89dIxnI5"
      },
      "source": [
        "### Remarque:\n",
        "We can pass function to other function as argument\n"
      ]
    },
    {
      "cell_type": "markdown",
      "metadata": {
        "id": "NyQZFTbUQ-JG"
      },
      "source": [
        "## Documenting function"
      ]
    },
    {
      "cell_type": "markdown",
      "metadata": {
        "id": "PqMdhVsoRDvD"
      },
      "source": [
        "We document functions to make our code cleaner and easier for other engineer to read and understand what types of argument the function takes and what type of value that the function returns\n",
        "also we can add documentative task that explain what the function do by creating string inside the function and putting it inside ``''' '''``"
      ]
    },
    {
      "cell_type": "code",
      "execution_count": null,
      "metadata": {
        "id": "uIedrSbjSCK4"
      },
      "outputs": [],
      "source": [
        "def sum_of_two_number(a:int,b:int)->int:\n",
        "    '''\n",
        "    this function take 2 integer number and return their sum\n",
        "    '''\n",
        "    return a+b\n",
        "\n",
        "print(sum_of_two_number.__doc__)\n",
        "print(sum_of_two_number(4,5))"
      ]
    },
    {
      "cell_type": "markdown",
      "metadata": {
        "id": "cdyRm9gQShqs"
      },
      "source": [
        "## Functional programming\n"
      ]
    },
    {
      "cell_type": "markdown",
      "metadata": {
        "id": "P-PeG311Spq0"
      },
      "source": [
        "Functional programming represent the art of solving our problems by dividing the main problem to small sets of sub problems and creating function for each one of them.  \n",
        "Functional programming cover the following 5 concepts"
      ]
    },
    {
      "cell_type": "markdown",
      "metadata": {
        "id": "zkPrx44UTQRq"
      },
      "source": [
        "### Pure functions\n"
      ]
    },
    {
      "cell_type": "markdown",
      "metadata": {
        "id": "ZTUayndsUZJi"
      },
      "source": [
        "These functions respect the following:\n",
        "\n",
        "- they always produce the same output for same arguments irrespective of anything else.\n",
        "- they have no side-effects i.e. they do not modify any arguments or local/global variables or input/output streams.\n",
        "- they have immutability. The pure function's only result is the value it returns. They are deterministic."
      ]
    },
    {
      "cell_type": "markdown",
      "metadata": {
        "id": "nMvvNmEyTW5v"
      },
      "source": [
        "### Recursive function\n"
      ]
    },
    {
      "cell_type": "markdown",
      "metadata": {
        "id": "y6Mvqu_PUe6T"
      },
      "source": [
        "Iteration in functional languages is implemented through recursion. Recursive functions repeatedly call themselves until they reache the base case."
      ]
    },
    {
      "cell_type": "markdown",
      "metadata": {
        "id": "pFGO9oziT5Ww"
      },
      "source": [
        "### First-Class functions and Higher-Order function"
      ]
    },
    {
      "cell_type": "markdown",
      "metadata": {
        "id": "6h-BT3QpUjOA"
      },
      "source": [
        "First-class functions are dealt with as first-class variable. The first class variables can be passed to functions as parameter, can be returned from functions or stored in data structures.\n",
        "Higher order functions are the functions that take other functions as arguments and they can also return functions."
      ]
    },
    {
      "cell_type": "markdown",
      "metadata": {
        "id": "_AXaqwavUGK0"
      },
      "source": [
        "### Referential transparency\n"
      ]
    },
    {
      "cell_type": "markdown",
      "metadata": {
        "id": "zGjUMGhaUsdQ"
      },
      "source": [
        "In functional programs variables, once defined don't change their value throughout the program. Functional programs do not have assignment statements. If we have to store some value, we define new variables instead. This eliminates any chances of side effects because any variable can be replaced with its actual value at any point of execution. State of any variable is constant at any instant."
      ]
    },
    {
      "cell_type": "markdown",
      "metadata": {
        "id": "x9R4szYSUJe-"
      },
      "source": [
        "### Variables are Immutable\n"
      ]
    },
    {
      "cell_type": "markdown",
      "metadata": {
        "id": "ZriGkt7dUu70"
      },
      "source": [
        "In functional programming, we can't modify a variable after it's been initialized. We can create new variables  but we can't modify existing variables, and this really helps to maintain state throughout the runtime of a program. Once we create a variable and set its value, we can have full confidence knowing that the value of that variable will never change."
      ]
    },
    {
      "cell_type": "markdown",
      "metadata": {
        "id": "lQM1AqmCVXy5"
      },
      "source": [
        "# Working with built in modules"
      ]
    },
    {
      "cell_type": "markdown",
      "metadata": {
        "id": "0ZJ49SjQVc_C"
      },
      "source": [
        "## Introduction"
      ]
    },
    {
      "cell_type": "markdown",
      "metadata": {
        "id": "8Ywl7Rm5Vnij"
      },
      "source": [
        "Modules are python files that store collections of functions that belong to same subject.\n",
        "Python come with some built in modules that can help with basic tasks like working with date , generating random number etc..."
      ]
    },
    {
      "cell_type": "markdown",
      "metadata": {
        "id": "Mah85jKgZGXq"
      },
      "source": [
        "## Using modules\n"
      ]
    },
    {
      "cell_type": "markdown",
      "metadata": {
        "id": "5DuQmUxzZcFG"
      },
      "source": [
        "To use those built in modules all we need is importing them using the **import** keyword followed by the module name if we want more then 1 module we separate their names by comma, then to use the functions that are inside the module we use the (.)"
      ]
    },
    {
      "cell_type": "code",
      "execution_count": null,
      "metadata": {
        "id": "5OorkyzgZcxj"
      },
      "outputs": [],
      "source": [
        "import random ,datetime\n",
        "n = random.randint(1,10)  # this function return random number between a = 1 et b = 10\n",
        "print(n)\n",
        "print(datetime.datetime.now()) # getting current time"
      ]
    },
    {
      "cell_type": "markdown",
      "metadata": {
        "id": "qGTFTZDyaatz"
      },
      "source": [
        "If we want to import just the function we can use the keyword **from** followed by the module name then the keyword **import** then the function name.  \n",
        "If we importing more then 1 function we separate the functions names by comma **,**  \n",
        "if we want to import all the functions that are inside the module we use \\*\n",
        "```\n",
        "from random import *\n",
        "```"
      ]
    },
    {
      "cell_type": "code",
      "execution_count": null,
      "metadata": {
        "id": "Q8ZmtQ3GapZf"
      },
      "outputs": [],
      "source": [
        "from random import randint\n",
        "n = randint(1,10)\n",
        "print(n)"
      ]
    },
    {
      "cell_type": "markdown",
      "metadata": {
        "id": "YOrnQxpKXCNb"
      },
      "source": [
        "### Remarques\n",
        "We can give alias name for a function or module after we import it using the keyword **as**"
      ]
    },
    {
      "cell_type": "code",
      "execution_count": null,
      "metadata": {
        "id": "X9ikdLTYXbY0"
      },
      "outputs": [],
      "source": [
        "from random import randint as rd\n",
        "m = rd(1,10)\n",
        "print(m)"
      ]
    },
    {
      "cell_type": "markdown",
      "metadata": {
        "id": "ujtFNTQHcQt8"
      },
      "source": [
        "# Third party modules"
      ]
    },
    {
      "cell_type": "markdown",
      "metadata": {
        "id": "Jpjj_OBBcT8G"
      },
      "source": [
        "## Introduction"
      ]
    },
    {
      "cell_type": "markdown",
      "metadata": {
        "id": "NSxjioXfcXYm"
      },
      "source": [
        "Python  built in modules don't cover everything, so here come python comunity with more modules, programmer like us built over the years many usefull open source modules, to get those modules  and install them all we need is using the python package manager **pip**"
      ]
    },
    {
      "cell_type": "markdown",
      "metadata": {
        "id": "t9x5L7YKia_G"
      },
      "source": [
        "## Installing third party modules"
      ]
    },
    {
      "cell_type": "markdown",
      "metadata": {
        "id": "AexqEKvWigxU"
      },
      "source": [
        "We can install third party modules by using ``pip install module_name`` in the command line, after installing the module we just import and use it.  \n",
        "When you face problem creating project check if there is aleardy exist a module that cover and solve the problem you are working on, this will boost your work"
      ]
    },
    {
      "cell_type": "code",
      "execution_count": null,
      "metadata": {
        "id": "pEH2jnWuis7G"
      },
      "outputs": [],
      "source": [
        "!pip install cowsay #here i added ! cuz this how google collab work put in your command line just write pip install ..."
      ]
    },
    {
      "cell_type": "code",
      "execution_count": null,
      "metadata": {
        "id": "aCLuQSTHjavL"
      },
      "outputs": [],
      "source": [
        "import cowsay\n",
        "cowsay.trex(\"hello Ali !\")"
      ]
    },
    {
      "cell_type": "markdown",
      "metadata": {
        "id": "7hMJeHCY9Gzh"
      },
      "source": [
        "# Tasks :"
      ]
    },
    {
      "cell_type": "markdown",
      "metadata": {
        "id": "v1jRXNGy9KSX"
      },
      "source": [
        "## Task 1:\n"
      ]
    },
    {
      "cell_type": "markdown",
      "metadata": {
        "id": "yTUl3slNF0U1"
      },
      "source": [
        "Solve the exercices of previous lecture using functions\n",
        "### Hints:"
      ]
    },
    {
      "cell_type": "markdown",
      "metadata": {
        "id": "kiXSee2bF5nZ"
      },
      "source": [
        "- For prime numbers task you can solve it by using 2 functions, 1 work as checker check if the number is prime and the other function run over numbers from 1 to n, The checker function can be passed as argument"
      ]
    },
    {
      "cell_type": "code",
      "execution_count": null,
      "metadata": {
        "id": "1lV_jtA8Gq1_"
      },
      "outputs": [],
      "source": [
        "# here solution for ax^2+bx+c=0"
      ]
    },
    {
      "cell_type": "code",
      "execution_count": null,
      "metadata": {
        "id": "7IoELva_GrNo"
      },
      "outputs": [],
      "source": [
        "# here solution for prim numbers"
      ]
    },
    {
      "cell_type": "markdown",
      "metadata": {
        "id": "Tvi7_ZcAG3Fa"
      },
      "source": [
        "## Task 2:\n"
      ]
    },
    {
      "cell_type": "markdown",
      "metadata": {
        "id": "JdvBldtnHV-X"
      },
      "source": [
        "Using random module and the randint function make game that generate random value and give user 5 chance to guess the number then display if he won or lose"
      ]
    },
    {
      "cell_type": "code",
      "execution_count": null,
      "metadata": {
        "id": "TkRb4frhHi4I"
      },
      "outputs": [],
      "source": []
    },
    {
      "cell_type": "markdown",
      "metadata": {
        "id": "YlI71ffIHZfL"
      },
      "source": [
        "## Task 3:\n",
        "In this task you are free to install any python modules and write simple script using it"
      ]
    }
  ],
  "metadata": {
    "colab": {
      "provenance": []
    },
    "kernelspec": {
      "display_name": "Python 3",
      "name": "python3"
    },
    "language_info": {
      "name": "python"
    }
  },
  "nbformat": 4,
  "nbformat_minor": 0
}
