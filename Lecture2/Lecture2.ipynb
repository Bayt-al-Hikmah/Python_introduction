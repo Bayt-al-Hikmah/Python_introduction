{
  "nbformat": 4,
  "nbformat_minor": 0,
  "metadata": {
    "colab": {
      "provenance": [],
      "toc_visible": true
    },
    "kernelspec": {
      "name": "python3",
      "display_name": "Python 3"
    },
    "language_info": {
      "name": "python"
    }
  },
  "cells": [
    {
      "cell_type": "markdown",
      "source": [
        "# Objective"
      ],
      "metadata": {
        "id": "qE4IQn_JIq-j"
      }
    },
    {
      "cell_type": "markdown",
      "source": [
        "- Learning about list and working with them\n",
        "- Learning about and working with tuple\n",
        "- Learning about and working with Sets\n",
        "- Learning about Dictionary\n",
        "- Learning about Mutability"
      ],
      "metadata": {
        "id": "gdDrwtO5Ivca"
      }
    },
    {
      "cell_type": "markdown",
      "source": [
        "# List\n"
      ],
      "metadata": {
        "id": "URvhcs_4JEKJ"
      }
    },
    {
      "cell_type": "markdown",
      "source": [
        "## Introduction\n"
      ],
      "metadata": {
        "id": "J-5fVzbiKJyV"
      }
    },
    {
      "cell_type": "markdown",
      "source": [
        "In lecture 1 we ran over the basic data types and how to create variables , but lets suppose we want to create a variable that holds more than 1 value, lets suppose we want to save our  favourite cities names we can't keep creating variables for each city name this will be annoying,\n",
        "to fix this we have \"List\", list allows us to store many values in 1 variables"
      ],
      "metadata": {
        "id": "LMwbsBNWKW-x"
      }
    },
    {
      "cell_type": "markdown",
      "source": [
        "## Creating lists\n"
      ],
      "metadata": {
        "id": "WsaF7BX4Klgk"
      }
    },
    {
      "cell_type": "markdown",
      "source": [
        "Creating list, is similar to creating other variables , we need a variable name then = then to store value as element of list we put them inside ``[ ]`` we separate them with commas ``,``  \n",
        "Or we can use ``city_name = list()`` to create empty list  \n",
        "\n",
        "Example :\n",
        "```\n",
        "city_names = [\"Gaza\",\"Jerusalem\",\"Algiers\"]\n",
        "```"
      ],
      "metadata": {
        "id": "w022igO-LdmU"
      }
    },
    {
      "cell_type": "code",
      "execution_count": null,
      "metadata": {
        "id": "-mmnLKGdGutK"
      },
      "outputs": [],
      "source": [
        "city_names = [\"Gaza\",\"Jerusalem\",\"Algiers\"]\n",
        "print(city_names)"
      ]
    },
    {
      "cell_type": "markdown",
      "source": [
        "## Access list elements and some operations on list"
      ],
      "metadata": {
        "id": "MItj74lHMCeB"
      }
    },
    {
      "cell_type": "markdown",
      "source": [
        "### Access list elements  \n",
        "\n"
      ],
      "metadata": {
        "id": "kAsrt06FMTKb"
      }
    },
    {
      "cell_type": "markdown",
      "source": [
        "We saw how to create list but now we need a way to access those values included in the list, to do so we use the index methode , first element of the list have the index 0\n",
        "For the previous city_names list **``Jerusalem``** have the index **``1``** and **``Gaza``** the index **``0``** , now we just need to write the list name and add the index of value that we want inside ``[ ]``  \n",
        "Example :\n",
        "```\n",
        "print(city_names[0]) # this will print Gaza\n",
        "```\n"
      ],
      "metadata": {
        "id": "SZ_kU_QfMukL"
      }
    },
    {
      "cell_type": "code",
      "source": [
        "city_names = [\"Gaza\",\"Jerusalem\",\"Algiers\"]\n",
        "print(city_names[0])"
      ],
      "metadata": {
        "id": "2eI2lQIGNqN_"
      },
      "execution_count": null,
      "outputs": []
    },
    {
      "cell_type": "markdown",
      "source": [
        "### Working with list  \n"
      ],
      "metadata": {
        "id": "MOXoXUsuRSKt"
      }
    },
    {
      "cell_type": "markdown",
      "source": [
        "We saw how to access element of a list now we will see some basic operation on lists\n",
        "- Getting list length , we do that using len()\n",
        "- Changing list element value , we do that using **``city_names[2] = \"Cairo\"``**\n",
        "- Adding element to list , we do that using ``.append()`` ``city_names.append(\"Dubai\")``\n",
        "- Inserting value , to insert value on specific index we use ``city_names.insert(index,value)``\n",
        "- Removing value , to remove value from list we use ``city_name.remove(value)``\n",
        "- Removing using index, to remove value using it index we use ``city_names.pop(index)`` if we want to just remove last value we use ``city_names.pop()``\n",
        "- Clear list, to clear list and return empty list we can use ``city_names.clear()``\n",
        "- Copy list , to copy list to another one we use ``city_names.copy()``\n",
        "- Check if value exist, to check if value exist on list we use the keyword ``in``\n",
        "- Adding 2 lists together ,to ad 2 list to each other and concate them we use ``+``  \n",
        "- Sorting list , to sort element of list we use ``city_names.sort()`` , to reverse the order that the list have we use ``city_names.reverse()``\n",
        "\n",
        "Example:\n",
        "```\n",
        "numbers = [4,7,8]\n",
        "more_numbers = [5,7,9]\n",
        "all_numbers=numbers+more_numbers\n",
        "```\n"
      ],
      "metadata": {
        "id": "vwwOhVvgRWjr"
      }
    },
    {
      "cell_type": "code",
      "source": [
        "colors = [\"Red\",\"White\",\"Yellow\",\"Green\",\"Grey\",\"Black\",\"Orange\"]\n",
        "print(colors[0])\n",
        "print(len(colors))\n",
        "colors[2] = \"Blue\"\n",
        "print(colors)\n",
        "colors.append(\"Purple\")\n",
        "print(colors)\n",
        "colors.insert(3,\"Pink\")\n",
        "print(colors)\n",
        "colors.remove(\"White\")\n",
        "print(colors)\n",
        "colors.pop()\n",
        "print(colors)\n",
        "is_color_exist = \"Red\" in colors\n",
        "print(is_color_exist)\n",
        "colors.clear()\n",
        "print(colors)\n",
        "numbers = [4,7,8]\n",
        "more_numbers = [5,7,9]\n",
        "all_numbers=numbers+more_numbers\n",
        "print(all_numbers)"
      ],
      "metadata": {
        "id": "kkRgD6_dUybX"
      },
      "execution_count": null,
      "outputs": []
    },
    {
      "cell_type": "markdown",
      "source": [
        "## List comprehension"
      ],
      "metadata": {
        "id": "rPco_bFi30K4"
      }
    },
    {
      "cell_type": "markdown",
      "source": [
        "List comprehension is a way to create lists in a Pythonic manner. Instead of creating an empty list and then filling it with data using loops, we can use list comprehension by following this syntax:  \n",
        "```list_name = [expression for item in iterable]```\n"
      ],
      "metadata": {
        "id": "lEDXsdzi3-5t"
      }
    },
    {
      "cell_type": "code",
      "source": [
        "# Example creating list of squares\n",
        "# method 1\n",
        "squares = []\n",
        "for i in range(10):\n",
        "  squares.append(i*i)\n",
        "print(squares)\n",
        "# method 2\n",
        "squares = [i*i for i in range(10)]\n",
        "print(squares)"
      ],
      "metadata": {
        "colab": {
          "base_uri": "https://localhost:8080/"
        },
        "id": "mrKOJtLh4Xn_",
        "outputId": "deadee95-1c28-4048-e3c8-31a5681bc7e9"
      },
      "execution_count": 2,
      "outputs": [
        {
          "output_type": "stream",
          "name": "stdout",
          "text": [
            "[0, 1, 4, 9, 16, 25, 36, 49, 64, 81]\n",
            "[0, 1, 4, 9, 16, 25, 36, 49, 64, 81]\n"
          ]
        }
      ]
    },
    {
      "cell_type": "markdown",
      "source": [
        "We can see that both methods produce the same result, but the second method is cleaner and more Pythonic. We can do even more with list comprehension, such as adding conditions."
      ],
      "metadata": {
        "id": "pIdwCnbl4kcn"
      }
    },
    {
      "cell_type": "code",
      "source": [
        "# Example creating list of odd numbers\n",
        "# method 1\n",
        "odd_numbers = []\n",
        "for i in range(10):\n",
        "  if i%2 != 0:\n",
        "    odd_numbers.append(i)\n",
        "print(odd_numbers)\n",
        "# method 2\n",
        "odd_numbers = [i for i in range(10) if i%2 != 0]\n",
        "print(odd_numbers)"
      ],
      "metadata": {
        "id": "11ZkABbL453c"
      },
      "execution_count": null,
      "outputs": []
    },
    {
      "cell_type": "markdown",
      "source": [
        "# Tuples"
      ],
      "metadata": {
        "id": "q0AxiSeQWmJe"
      }
    },
    {
      "cell_type": "markdown",
      "source": [
        "## Introduction"
      ],
      "metadata": {
        "id": "NCdi4_IPXa19"
      }
    },
    {
      "cell_type": "markdown",
      "source": [
        "Tuples work same as list they are used to store many values inside 1 variable but the deffirence is when we create tuples we can't change them or change data inside them, all we can do to tuple is read it data"
      ],
      "metadata": {
        "id": "S8ioIh93XWmD"
      }
    },
    {
      "cell_type": "markdown",
      "source": [
        "## Creating tuple"
      ],
      "metadata": {
        "id": "UdyNJdnaWxM0"
      }
    },
    {
      "cell_type": "markdown",
      "source": [
        "Creating tuple is same as creating list the deffirence is we put variables inside ``( )`` instead of ``[ ]``  \n",
        "Or we can use ``city_name = tuple()`` to create empty tuple  \n",
        "\n",
        "Example :\n",
        "```\n",
        "city_names = (\"Gaza\",\"Jerusalem\",\"Algiers\")\n",
        "```"
      ],
      "metadata": {
        "id": "wVZEAXTVXqSo"
      }
    },
    {
      "cell_type": "code",
      "source": [
        "city_names = (\"Gaza\",\"Jerusalem\",\"Algiers\")\n",
        "print(city_names)"
      ],
      "metadata": {
        "id": "Od0YwjV7YHD2"
      },
      "execution_count": null,
      "outputs": []
    },
    {
      "cell_type": "markdown",
      "source": [
        "## Access tuple elements"
      ],
      "metadata": {
        "id": "QSZmCcObYQ-H"
      }
    },
    {
      "cell_type": "markdown",
      "source": [
        "To access tuples elements, we use index (same way as list) and counting start from 0  \n",
        "Example :\n",
        "```\n",
        "print(city_names[0]) # this will print Gaza\n",
        "```\n",
        "We can't change tuple elemet value and we can't add element to tuples"
      ],
      "metadata": {
        "id": "Ec4V0vmMYbtg"
      }
    },
    {
      "cell_type": "code",
      "source": [
        "city_names = (\"Gaza\",\"Jerusalem\",\"Algiers\")\n",
        "print(city_names[0])\n",
        "print(len(city_names))\n",
        "is_city_exist = \"Gaza\" in city_names\n",
        "print(is_city_exist)"
      ],
      "metadata": {
        "id": "jqEb5Fk1YsNK"
      },
      "execution_count": null,
      "outputs": []
    },
    {
      "cell_type": "markdown",
      "source": [
        "# Sets"
      ],
      "metadata": {
        "id": "5VKoi0kiZB9V"
      }
    },
    {
      "cell_type": "markdown",
      "source": [
        "## Introduction"
      ],
      "metadata": {
        "id": "4wczXNEFuY7Z"
      }
    },
    {
      "cell_type": "markdown",
      "source": [
        "Set is another type that can hold many values but the key feature of sets is they don't save duplicated value, each value should be presented only once"
      ],
      "metadata": {
        "id": "_PuOg2BNuHIb"
      }
    },
    {
      "cell_type": "markdown",
      "source": [
        "## Creating set"
      ],
      "metadata": {
        "id": "b0VCG1Q_vmYK"
      }
    },
    {
      "cell_type": "markdown",
      "source": [
        "To create set all what we have to do is chosing name for the set then using = followed by ``{ }`` we put inside them values separated by comma ``,``  \n",
        "Or we can use ``city_name = set()`` to create empty set   \n",
        "\n",
        "Example :\n",
        "```\n",
        "city_names = {\"Gaza\",\"Jerusalem\",\"Algiers\"}\n",
        "```\n",
        "\n"
      ],
      "metadata": {
        "id": "CPp0vRQqul_Y"
      }
    },
    {
      "cell_type": "code",
      "source": [
        "city_names = {\"Gaza\",\"Jerusalem\",\"Algiers\"}\n",
        "print(city_names)"
      ],
      "metadata": {
        "id": "rZixivMFvrE6"
      },
      "execution_count": null,
      "outputs": []
    },
    {
      "cell_type": "markdown",
      "source": [
        "## Operations on sets"
      ],
      "metadata": {
        "id": "qWrbTPtbv9_H"
      }
    },
    {
      "cell_type": "markdown",
      "source": [
        "We can't access set elements using the index methode, but there is some other operations we can do to sets:\n",
        "- Adding element to set , to add element to set we use ``city_names.add()``\n",
        "- Removing element from set, to remove element from set we use ``city_names.remove()``\n",
        "- Check if value exist in set, to check if value exist inside a set we use the keyword ``in``\n",
        "- Getting the union of 2 sets, to get the union of 2 sets we use ``city_names.union(more_city_names)``\n",
        "- Getting the deffirence between 2 sets , to get the element that exist in one set and don't exist in second one we use ``city_names.difference(more_city_names)``\n",
        "- Getting the intersection of 2 sets, to get the intersection between two sets we use ``city_names.intersection(more_city_names)``\n",
        "- Getting the value that both set don't share , to get the value that both sets don't share we use ``city_names.symmetric_difference(more_city_names)``\n",
        "<p align=\"center\">\n",
        "<img src=\"data:image/png;base64,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\">\n",
        "        </p>"
      ],
      "metadata": {
        "id": "MpvkCdD0wFVQ"
      }
    },
    {
      "cell_type": "code",
      "source": [
        "city_names = {\"Gaza\",\"Jerusalem\",\"Algiers\"}\n",
        "#print(city_names[0]) # This will cause error\n",
        "city_names.add(\"Dubai\")\n",
        "print(city_names)\n",
        "city_names.remove(\"Gaza\")\n",
        "print(city_names)\n",
        "is_city_exist = \"Gaza\" in city_names\n",
        "print(is_city_exist)\n",
        "more_city_names = {\"Dubai\",\"Gaza\",\"Algiers\"}\n",
        "print(city_names.union(more_city_names))\n",
        "print(city_names.difference(more_city_names))\n",
        "print(city_names.intersection(more_city_names))"
      ],
      "metadata": {
        "id": "1lP5B3QjzNUb"
      },
      "execution_count": null,
      "outputs": []
    },
    {
      "cell_type": "markdown",
      "source": [
        "# Dictionary"
      ],
      "metadata": {
        "id": "0UB2TaUCc00w"
      }
    },
    {
      "cell_type": "markdown",
      "source": [
        "## Introduction\n"
      ],
      "metadata": {
        "id": "RZzo8F_Sz0Mo"
      }
    },
    {
      "cell_type": "markdown",
      "source": [
        "Dictionary are used to store data as key value, to access value we have to use the key associeted with it"
      ],
      "metadata": {
        "id": "38vPp0wSzzzI"
      }
    },
    {
      "cell_type": "markdown",
      "source": [
        "## Creating dictionary"
      ],
      "metadata": {
        "id": "hn4Srni2zzog"
      }
    },
    {
      "cell_type": "markdown",
      "source": [
        "To create ductionary all what we have to do is chosing name for the dictionary then using = followed by ``{ }`` in which we include key value separated by :\n",
        "\n",
        "Each key value pair must be separated by comma ``,``  \n",
        "Or we can use ``capitals = dict()`` to create empty dictionary\n",
        "\n",
        "Example :\n",
        "```\n",
        "capitals = {\"Egypt\":\"Cairo\",\"Palestine\":\"Jerusalem\",\"Algeria\":\"Algiers\"}\n",
        "```\n"
      ],
      "metadata": {
        "id": "4eWkSUIlUH_G"
      }
    },
    {
      "cell_type": "code",
      "source": [
        "capitals = {\"Egypt\":\"Cairo\",\"Palestine\":\"Jerusalem\",\"Algeria\":\"Algiers\"}\n",
        "print(capitals)"
      ],
      "metadata": {
        "id": "L-ZKV4HzV5DF"
      },
      "execution_count": null,
      "outputs": []
    },
    {
      "cell_type": "markdown",
      "source": [
        "## Working with dictionary\n"
      ],
      "metadata": {
        "id": "WxE5yTcDV9sz"
      }
    },
    {
      "cell_type": "markdown",
      "source": [
        "- Accessing value, to access value inside dict we use it key ``capitals[\"Algeria\"]`` or we can use ``capitals.get(\"Algeria\")``\n",
        "- Adding key value pair,to add key value pair we just write dictionary name then inside ``[]`` the newy key then ``=`` followed by value\n",
        "- Getting all keys, to get all dictionary keys we use ``capitals.keys()``\n",
        "- Getting all values, to get all values that are inside dictionary we use ``capitals.values()``\n",
        "- Getting key,values ,to get all keys and values that are inside dictionary we use  ``capitals.items()``\n",
        "- Copy dictionary , to copy dictionary to another one we use ``capitals.copy()``\n",
        "- Clear dictionary, to clear dictionary and return empty dictionary we can use ``capitals.clear()``\n",
        "- Remove from dictionary , to remove key value from dictionary we use ``capitals.pop(\"Algeria\")`` , this will remove the item and return the value that the key had\n",
        "- Remove last key value pair from dictionary , to remove last value from dictionary we use ``capitals.popitem()`` it will remove last key value pair and return it as tuple"
      ],
      "metadata": {
        "id": "xZc9Xd4oWJjc"
      }
    },
    {
      "cell_type": "code",
      "source": [
        "capitals = {\"Egypt\":\"Cairo\",\"Palestine\":\"Jerusalem\",\"Algeria\":\"Algiers\"}\n",
        "print(capitals[\"Algeria\"])\n",
        "print(capitals.get(\"Algeria\"))\n",
        "capitals[\"Syria\"]=\"Damascus\"\n",
        "print(capitals)\n",
        "print(capitals.keys())\n",
        "print(capitals.values())\n",
        "print(capitals.items())\n",
        "capitals.pop(\"Algeria\")\n",
        "print(capitals)\n",
        "capitals.popitem()\n",
        "print(capitals)\n",
        "capitals_copy = capitals.copy()\n",
        "print(capitals_copy)\n",
        "capitals.clear()\n",
        "print(capitals)"
      ],
      "metadata": {
        "id": "p9BO_BJcZUby"
      },
      "execution_count": null,
      "outputs": []
    },
    {
      "cell_type": "markdown",
      "source": [
        "# Nesting and Mixing"
      ],
      "metadata": {
        "id": "CVg6pm-v6R6g"
      }
    },
    {
      "cell_type": "markdown",
      "source": [
        "We can nest and mix dictionaries, sets, and tuples with each other to create more complex variables. For example, we can create multi-dimensional lists, lists that store tuples, or dictionaries nested within other dictionaries."
      ],
      "metadata": {
        "id": "hqkMHDOI6VtN"
      }
    },
    {
      "cell_type": "markdown",
      "source": [
        "##  Multi-dimensional List"
      ],
      "metadata": {
        "id": "dlnOhiUi7XJx"
      }
    },
    {
      "cell_type": "markdown",
      "source": [
        "We create multi-dimensional lists by defining a list that contains inner lists instead of just individual values. To access the data within these structures, we use multi-indexing. Let’s see how this works in the following example:"
      ],
      "metadata": {
        "id": "2Y9vmpyO7dSR"
      }
    },
    {
      "cell_type": "code",
      "source": [
        "data = [\n",
        "    [1, 2, 3],\n",
        "    [4, 5, 6],\n",
        "    [7, 8, 9]\n",
        "]\n",
        "print(data[2])\n",
        "print(data[2][0])"
      ],
      "metadata": {
        "id": "pB4Wm8-H8T8j"
      },
      "execution_count": null,
      "outputs": []
    },
    {
      "cell_type": "markdown",
      "source": [
        "The list in this example is two-dimensional. We access the values inside it using indexing. For instance, data[2] will return the inner list at index 2. To access specific elements within this inner list, we add another index. For example, data[2][0] will return the first element of the third inner list."
      ],
      "metadata": {
        "id": "42V4vbZb8lJA"
      }
    },
    {
      "cell_type": "markdown",
      "source": [
        "## Multi-dimenstional tuple:\n"
      ],
      "metadata": {
        "id": "xx7It_xT9XCk"
      }
    },
    {
      "cell_type": "markdown",
      "source": [
        "Same as lists we create multi-dimensional tuples by defining a tuple that contains inner tuples instead of just individual values. To access the data within these structures, we use multi-indexing. Let's see how this works in the following example:"
      ],
      "metadata": {
        "id": "xpNdogYx9fiC"
      }
    },
    {
      "cell_type": "code",
      "source": [
        "data = (\n",
        "    (1, 2, 3),\n",
        "    (4, 5, 6),\n",
        "    (7, 8, 9)\n",
        ")\n",
        "\n",
        "print(data[2])\n",
        "print(data[2][0])"
      ],
      "metadata": {
        "id": "YXRkt4hI9wsn"
      },
      "execution_count": null,
      "outputs": []
    },
    {
      "cell_type": "markdown",
      "source": [
        "The tuple in this example is two-dimensional. We access the values inside it using indexing. For instance, data[2] will return the inner tuple at index 2. To access specific elements within this inner tuple, we add another index. For example, data[2][0] will return the first element of the third inner tuple."
      ],
      "metadata": {
        "id": "X1wMIy5C9_YQ"
      }
    },
    {
      "cell_type": "markdown",
      "source": [
        "## Mixing Tuples with Lists"
      ],
      "metadata": {
        "id": "TzwqQuhK-C_o"
      }
    },
    {
      "cell_type": "markdown",
      "source": [
        "Python also allows us to mix and nest tuples inside lists. For example, we can create a list that contains tuples as its elements.\n",
        "\n"
      ],
      "metadata": {
        "id": "L3cUEn9W-NGp"
      }
    },
    {
      "cell_type": "code",
      "source": [
        "data = [\n",
        "    (1, 2, 3),\n",
        "    (4, 5, 6),\n",
        "    (7, 8, 9)\n",
        "]\n",
        "\n",
        "print(data[2])\n",
        "print(data[2][0])"
      ],
      "metadata": {
        "id": "lmTr2xxJ-L1P"
      },
      "execution_count": null,
      "outputs": []
    },
    {
      "cell_type": "markdown",
      "source": [
        "## Mixing Data types together"
      ],
      "metadata": {
        "id": "VHKlmmUI-w_D"
      }
    },
    {
      "cell_type": "markdown",
      "source": [
        "Not only can tuples and lists be mixed together, but we can also combine and nest all other data types (such as dictionaries, sets, strings, and numbers) to create more complex data structures. This flexibility allows us to represent real-world data in a structured and meaningful way."
      ],
      "metadata": {
        "id": "A9DjmRXr-2MV"
      }
    },
    {
      "cell_type": "code",
      "source": [
        "students = [\n",
        "    {\n",
        "        \"name\": \"Alice\",\n",
        "        \"family_name\": \"Smith\",\n",
        "        \"favorite_colors\": [\"blue\", \"green\"]\n",
        "    },\n",
        "    {\n",
        "        \"name\": \"Bob\",\n",
        "        \"family_name\": \"Johnson\",\n",
        "        \"favorite_colors\": [\"red\", \"yellow\"]\n",
        "    },\n",
        "    {\n",
        "        \"name\": \"Charlie\",\n",
        "        \"family_name\": \"Brown\",\n",
        "        \"favorite_colors\": [\"purple\", \"orange\"]\n",
        "    }\n",
        "]\n",
        "\n",
        "print(students[0][\"name\"])\n",
        "print(students[1][\"favorite_colors\"][0])"
      ],
      "metadata": {
        "id": "sF3rN2xc_pkv"
      },
      "execution_count": null,
      "outputs": []
    },
    {
      "cell_type": "markdown",
      "source": [
        "## List Comprehension with Mixed Data"
      ],
      "metadata": {
        "id": "_4qTuAomAEXX"
      }
    },
    {
      "cell_type": "markdown",
      "source": [
        "List comprehension can also be used to work with mixed data types. For example, if we have separate lists for student names, last names, and favorite colors, we can combine them into a list of dictionaries using list comprehension."
      ],
      "metadata": {
        "id": "JO0JStNdAikO"
      }
    },
    {
      "cell_type": "code",
      "source": [
        "names = [\"Alice\", \"Bob\", \"Charlie\"]\n",
        "last_names = [\"Smith\", \"Johnson\", \"Brown\"]\n",
        "favorite_colors = [[\"blue\", \"green\"], [\"red\", \"yellow\"], [\"purple\", \"orange\"]]\n",
        "\n",
        "students = [\n",
        "    {\n",
        "        \"name\": name,\n",
        "        \"last_name\": last_name,\n",
        "        \"favorite_colors\": colors\n",
        "    }\n",
        "    for name, last_name, colors in zip(names, last_names, favorite_colors)\n",
        "]\n",
        "\n",
        "print(students)"
      ],
      "metadata": {
        "colab": {
          "base_uri": "https://localhost:8080/"
        },
        "id": "2H0sDYyHBEcR",
        "outputId": "fd68da73-b9ee-464d-8be7-123e385d8384"
      },
      "execution_count": 3,
      "outputs": [
        {
          "output_type": "stream",
          "name": "stdout",
          "text": [
            "[{'name': 'Alice', 'last_name': 'Smith', 'favorite_colors': ['blue', 'green']}, {'name': 'Bob', 'last_name': 'Johnson', 'favorite_colors': ['red', 'yellow']}, {'name': 'Charlie', 'last_name': 'Brown', 'favorite_colors': ['purple', 'orange']}]\n"
          ]
        }
      ]
    },
    {
      "cell_type": "markdown",
      "source": [
        "# Mutability\n"
      ],
      "metadata": {
        "id": "ATgCX_o8c6dY"
      }
    },
    {
      "cell_type": "markdown",
      "source": [
        "mutability mean that we can change value of variables , not all data type are mutable   \n",
        "the mutable ones are :\n",
        "- list\n",
        "- dictionary\n",
        "- set  \n",
        "\n",
        "\n",
        "Immutable type are :\n",
        "- Float\n",
        "- Integer\n",
        "- Tuple\n",
        "- String  \n",
        "\n",
        "If we are to change a value of an immutable variable then we're basiclly creating a whole new variable"
      ],
      "metadata": {
        "id": "knRv1wNqcI9M"
      }
    },
    {
      "cell_type": "code",
      "source": [
        "numbers=(4,5,8)\n",
        "#numbers[2]=9 # This will cause error if you incommet it\n",
        "n = 4.5\n",
        "print(id(n))\n",
        "n = 6.6\n",
        "print(id(n))\n",
        "list_numbers=[4,5,8]\n",
        "print(id(list_numbers))\n",
        "list_numbers[2]=9\n",
        "print(id(list_numbers))\n",
        "# we use id to check if variable is same or we created new one"
      ],
      "metadata": {
        "id": "i6v1DLHwdmZX"
      },
      "execution_count": null,
      "outputs": []
    },
    {
      "cell_type": "markdown",
      "source": [
        "# Task:"
      ],
      "metadata": {
        "id": "8KmsILLKcEJU"
      }
    },
    {
      "cell_type": "markdown",
      "source": [
        "Make program that save two of your friends name,age and favourite_colors and store them inside dictionary then display which colors both of them favourites and colors that only the first friend favourites"
      ],
      "metadata": {
        "id": "bpP9HkzDAowV"
      }
    },
    {
      "cell_type": "code",
      "source": [],
      "metadata": {
        "id": "arVfJ7VZBNaS"
      },
      "execution_count": null,
      "outputs": []
    }
  ]
}