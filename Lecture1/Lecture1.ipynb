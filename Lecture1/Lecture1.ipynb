{
 "cells": [
  {
   "cell_type": "markdown",
   "metadata": {
    "id": "-8QEFQvGBRiS"
   },
   "source": [
    "# Objectives:"
   ]
  },
  {
   "cell_type": "markdown",
   "metadata": {
    "id": "eegKPsY-BVq6"
   },
   "source": [
    "- Creating first python program\n",
    "- Creating variables\n",
    "- Learning about basic type of variables\n",
    "- Creating comments\n",
    "- Getting user input\n",
    "- Converting variables from a type to another one"
   ]
  },
  {
   "cell_type": "markdown",
   "metadata": {
    "id": "hASqazj5Oog5"
   },
   "source": [
    "# Creating first program\n",
    "\n",
    "\n",
    "\n",
    "\n"
   ]
  },
  {
   "cell_type": "markdown",
   "metadata": {
    "id": "KqaQ5dq0Ban7"
   },
   "source": [
    " Create new file write ``print(\"my first program\")`` inside it then save it as ``code.py``  \n",
    "- ``code`` is the name of your script it should be characters without space or other special character also it should have no space  \n",
    "- ``.py`` is the extension of python file and python script  \n",
    "\n",
    "To run your script just open command line or terminal go to your file location and write ``python code.py`` ,The output should be ``my first program``  \n",
    "\n",
    "![lecture1](https://s13.gifyu.com/images/SPu4H.gif)"
   ]
  },
  {
   "cell_type": "markdown",
   "metadata": {
    "id": "PEvi9Ao_9oOg"
   },
   "source": [
    "# Variables\n",
    "\n"
   ]
  },
  {
   "cell_type": "markdown",
   "metadata": {
    "id": "qpdJtLBRB1bA"
   },
   "source": [
    "For now we saw how to create and run our program and we did small example that print message  \n",
    "Now we will see how to create variables and work with data(we are using the coding space here but you are free to test on you computer by creating files)"
   ]
  },
  {
   "cell_type": "markdown",
   "metadata": {
    "id": "7-ZGJ9f02ue7"
   },
   "source": [
    "\n",
    "## Types of variable :\n",
    "\n"
   ]
  },
  {
   "cell_type": "markdown",
   "metadata": {
    "id": "ck6beA0N9Qfq"
   },
   "source": [
    "Python basic types are :\n",
    "* Integer, number without floating point number\n",
    "* Float, real numbers\n",
    "* Boolean it can be either ``True`` or ``False``\n",
    "* String list of character  \n",
    "\n",
    "To create just give it a name then  `` = ``  then add the value that it hold , for string and text we should put it between ``' '`` or ``\" \"``"
   ]
  },
  {
   "cell_type": "code",
   "execution_count": null,
   "metadata": {
    "id": "l49sDMsA3ZSR"
   },
   "outputs": [],
   "source": [
    "name = \"handala\"      # String\n",
    "age = 25              # Integer\n",
    "pi = 3.14             # Float\n",
    "is_student = True     # Boolean\n"
   ]
  },
  {
   "cell_type": "markdown",
   "metadata": {
    "id": "yrNxylPN-Orn"
   },
   "source": [
    "## Operation on variables :  \n",
    "\n"
   ]
  },
  {
   "cell_type": "markdown",
   "metadata": {
    "id": "iGivGYqr-PHg"
   },
   "source": [
    "### Operation on numeric variable\n",
    "The basic operation on numeric variables are\n",
    "- Addition +\n",
    "- Substraction -\n",
    "- Division ``/``\n",
    "- Multiplication ``*``\n",
    "- Power ``**``\n",
    "- Modulo ``%`` reminder of division"
   ]
  },
  {
   "cell_type": "code",
   "execution_count": null,
   "metadata": {
    "id": "Zhdf7Abs_JwS"
   },
   "outputs": [],
   "source": [
    "a = 10\n",
    "b = 2\n",
    "print(a + b)\n",
    "print(a - b)\n",
    "print(a / b)\n",
    "print(a * b)\n",
    "print(a ** b)\n",
    "print(a % b)"
   ]
  },
  {
   "cell_type": "markdown",
   "metadata": {
    "id": "NobHWBjr_c6J"
   },
   "source": [
    "### Operation on string\n",
    "For string we can do only addition ``+`` it will concate the 2 string\n",
    "```\n",
    "name = \"Ali \"\n",
    "family_name = \"tigui\"\n",
    "full_name = name + family_name #result will be \"ali tigui\"\n",
    "```"
   ]
  },
  {
   "cell_type": "code",
   "execution_count": null,
   "metadata": {
    "id": "2oYnJrL4AQzV"
   },
   "outputs": [],
   "source": [
    "name = \"Ali \"\n",
    "finally_name = \"Tigui\"\n",
    "full_name = name + finally_name\n",
    "print(full_name)"
   ]
  },
  {
   "cell_type": "markdown",
   "metadata": {
    "id": "e1d3FpPA5jn6"
   },
   "source": [
    "# Creating comment and getting user input"
   ]
  },
  {
   "cell_type": "markdown",
   "metadata": {
    "id": "3-ERpbDCUBY2"
   },
   "source": [
    "## Comments"
   ]
  },
  {
   "cell_type": "markdown",
   "metadata": {
    "id": "WhKeEI4N96Zx"
   },
   "source": [
    "\n",
    "Comments are lines that will not run when we excute the code (example of that in code above ``# String `` is a comment) to create comment just use ``#`` then whatever you want to write  \n",
    "Comments are good and helpfull they can help you understand your own code by adding small description explaining what the lines of code do so when you come accrose them in future it will be easy to understand what they do\n"
   ]
  },
  {
   "cell_type": "markdown",
   "metadata": {
    "id": "viWHxV3EUOn8"
   },
   "source": [
    "## Getting user input"
   ]
  },
  {
   "cell_type": "markdown",
   "metadata": {
    "id": "GY0zVGxtUG5n"
   },
   "source": [
    "\n",
    "\n",
    "We saw how to print value to the screen by using ``print()``, now we will see how to get input and data from user  \n",
    "To get data from user we use the function ``input(\"message\")`` (the \"message\" can be any ``String`` value)"
   ]
  },
  {
   "cell_type": "code",
   "execution_count": null,
   "metadata": {
    "id": "G5LPdyKw7mNp"
   },
   "outputs": [],
   "source": [
    "# getting user name and welcoming him\n",
    "name = input(\"What is your name? \")\n",
    "print(\"Hello \" + name)"
   ]
  },
  {
   "cell_type": "markdown",
   "metadata": {
    "id": "05sRLNMBCaKh"
   },
   "source": [
    "# Converting between variables types"
   ]
  },
  {
   "cell_type": "markdown",
   "metadata": {
    "id": "9KhdbbrnCjaz"
   },
   "source": [
    "So from the example we just gave we can see that the user input has only expressed string variables,can there be a way to convert to other variavles ?  \n",
    "Well yes! Python provided us with feature to convert between data types as explained bellow\n",
    "- ``str()`` to convert variable to a String\n",
    "- ``int()`` to convert variable to a Integer\n",
    "- ``float()`` to convert variable to Float\n",
    "- ``bool()`` to convert variable to boolean"
   ]
  },
  {
   "cell_type": "code",
   "execution_count": null,
   "metadata": {
    "id": "9ThY8CSiDm0O"
   },
   "outputs": [],
   "source": [
    "number1 = input(\"Enter a number: \")\n",
    "number2 = input(\"Enter another number: \")\n",
    "result = int(number1) + int(number2) # converting to integer so we can do calculatiom\n",
    "print(\"The result is: \" + str(result)) # converting back to string so we can concate it with the message"
   ]
  },
  {
   "cell_type": "markdown",
   "metadata": {
    "id": "c0QE44CqFUPN"
   },
   "source": [
    "# Task :\n"
   ]
  },
  {
   "cell_type": "markdown",
   "metadata": {
    "id": "8UTQz1EBFdLz"
   },
   "source": [
    "Make simple program that read the radius of circule from the user then calculate the circule surface and display it with a message  \n",
    "After runnig your program you should get this result     \n",
    "```\n",
    "Enter the radius: 5\n",
    "The surface is 78.5\n",
    "```"
   ]
  },
  {
   "cell_type": "code",
   "execution_count": null,
   "metadata": {
    "id": "cuXuymP-Agmg"
   },
   "outputs": [],
   "source": []
  }
 ],
 "metadata": {
  "colab": {
   "authorship_tag": "ABX9TyPkjr8YgpsV2CShLD9GiGSV",
   "provenance": []
  },
  "kernelspec": {
   "display_name": "Python 3",
   "name": "python3"
  },
  "language_info": {
   "name": "python"
  }
 },
 "nbformat": 4,
 "nbformat_minor": 0
}
